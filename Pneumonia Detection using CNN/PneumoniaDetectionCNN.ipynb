{
 "cells": [
  {
   "cell_type": "code",
   "execution_count": null,
   "metadata": {
    "execution": {
     "iopub.execute_input": "2021-08-26T22:46:23.097186Z",
     "iopub.status.busy": "2021-08-26T22:46:23.096614Z",
     "iopub.status.idle": "2021-08-26T22:46:23.104031Z",
     "shell.execute_reply": "2021-08-26T22:46:23.103054Z",
     "shell.execute_reply.started": "2021-08-26T22:46:23.097143Z"
    }
   },
   "outputs": [],
   "source": [
    "TRAİN = \"chest_xray/train\"\n",
    "TEST  = \"chest_xray/test\"\n",
    "VAL = \"chest_xray/val\""
   ]
  },
  {
   "cell_type": "code",
   "execution_count": null,
   "metadata": {
    "execution": {
     "iopub.execute_input": "2021-08-26T22:46:23.107058Z",
     "iopub.status.busy": "2021-08-26T22:46:23.106468Z",
     "iopub.status.idle": "2021-08-26T22:46:29.1556Z",
     "shell.execute_reply": "2021-08-26T22:46:29.154682Z",
     "shell.execute_reply.started": "2021-08-26T22:46:23.107014Z"
    }
   },
   "outputs": [],
   "source": [
    "import numpy as np\n",
    "import pandas as pd \n",
    "import matplotlib.pyplot as plt\n",
    "import keras\n",
    "from keras.layers import *\n",
    "from keras.models import * \n",
    "from keras.preprocessing import image\n"
   ]
  },
  {
   "cell_type": "code",
   "execution_count": null,
   "metadata": {
    "execution": {
     "iopub.execute_input": "2021-08-26T22:46:29.157608Z",
     "iopub.status.busy": "2021-08-26T22:46:29.157101Z",
     "iopub.status.idle": "2021-08-26T22:46:29.394156Z",
     "shell.execute_reply": "2021-08-26T22:46:29.393384Z",
     "shell.execute_reply.started": "2021-08-26T22:46:29.157576Z"
    }
   },
   "outputs": [],
   "source": [
    "model = Sequential()\n",
    "model.add(Conv2D(32,kernel_size=(3,3),activation=\"relu\", input_shape=(224,224,3)))\n",
    "model.add(Conv2D(64,kernel_size=(3,3),activation=\"relu\"))\n",
    "model.add(MaxPool2D(pool_size=(2,2)))\n",
    "model.add(Dropout(0.25))\n",
    "\n",
    "model.add(Conv2D(64,(3,3),activation=\"relu\"))\n",
    "model.add(MaxPool2D(pool_size=(2,2)))\n",
    "model.add(Dropout(0.25))\n",
    "\n",
    "model.add(Conv2D(128,(3,3),activation=\"relu\"))\n",
    "model.add(MaxPool2D(pool_size=(2,2)))\n",
    "model.add(Dropout(0.25))\n",
    "\n",
    "model.add(Flatten())\n",
    "model.add(Dense(64, activation=\"relu\"))\n",
    "model.add(Dropout(0.50))\n",
    "\n",
    "model.add(Dense(1, activation=\"sigmoid\"))\n",
    "model.compile(loss=keras.losses.binary_crossentropy, optimizer=\"adam\",metrics=[\"accuracy\"])"
   ]
  },
  {
   "cell_type": "code",
   "execution_count": null,
   "metadata": {
    "execution": {
     "iopub.execute_input": "2021-08-26T22:46:29.395936Z",
     "iopub.status.busy": "2021-08-26T22:46:29.395457Z",
     "iopub.status.idle": "2021-08-26T22:46:29.408118Z",
     "shell.execute_reply": "2021-08-26T22:46:29.407064Z",
     "shell.execute_reply.started": "2021-08-26T22:46:29.395904Z"
    }
   },
   "outputs": [],
   "source": [
    "model.summary()"
   ]
  },
  {
   "cell_type": "code",
   "execution_count": null,
   "metadata": {
    "execution": {
     "iopub.execute_input": "2021-08-26T22:46:29.409919Z",
     "iopub.status.busy": "2021-08-26T22:46:29.409532Z",
     "iopub.status.idle": "2021-08-26T22:46:29.415006Z",
     "shell.execute_reply": "2021-08-26T22:46:29.414188Z",
     "shell.execute_reply.started": "2021-08-26T22:46:29.409876Z"
    }
   },
   "outputs": [],
   "source": [
    "train_datagen = image.ImageDataGenerator(\n",
    "    rescale=1./255,\n",
    "    shear_range=0.2,\n",
    "    zoom_range=0.2,\n",
    "    horizontal_flip=True,\n",
    ")\n",
    "test_dataset = image.ImageDataGenerator(rescale=1./255)"
   ]
  },
  {
   "cell_type": "code",
   "execution_count": null,
   "metadata": {
    "execution": {
     "iopub.execute_input": "2021-08-26T22:46:29.416676Z",
     "iopub.status.busy": "2021-08-26T22:46:29.416096Z",
     "iopub.status.idle": "2021-08-26T22:46:29.750519Z",
     "shell.execute_reply": "2021-08-26T22:46:29.749442Z",
     "shell.execute_reply.started": "2021-08-26T22:46:29.416645Z"
    }
   },
   "outputs": [],
   "source": [
    "train_generator = train_datagen.flow_from_directory(\n",
    "    TRAİN,\n",
    "    target_size=(224,224),\n",
    "    batch_size=32,\n",
    "    class_mode=\"binary\"\n",
    ")"
   ]
  },
  {
   "cell_type": "code",
   "execution_count": null,
   "metadata": {
    "execution": {
     "iopub.execute_input": "2021-08-26T22:46:29.752423Z",
     "iopub.status.busy": "2021-08-26T22:46:29.751998Z",
     "iopub.status.idle": "2021-08-26T22:46:29.761609Z",
     "shell.execute_reply": "2021-08-26T22:46:29.760643Z",
     "shell.execute_reply.started": "2021-08-26T22:46:29.752378Z"
    }
   },
   "outputs": [],
   "source": [
    "train_generator.class_indices"
   ]
  },
  {
   "cell_type": "code",
   "execution_count": null,
   "metadata": {
    "execution": {
     "iopub.execute_input": "2021-08-26T22:46:29.764176Z",
     "iopub.status.busy": "2021-08-26T22:46:29.763852Z",
     "iopub.status.idle": "2021-08-26T22:46:29.874517Z",
     "shell.execute_reply": "2021-08-26T22:46:29.873603Z",
     "shell.execute_reply.started": "2021-08-26T22:46:29.764137Z"
    }
   },
   "outputs": [],
   "source": [
    "val_generator = train_datagen.flow_from_directory(\n",
    "    VAL,\n",
    "    target_size=(224,224),\n",
    "    batch_size=32,\n",
    "    class_mode=\"binary\"\n",
    ")"
   ]
  },
  {
   "cell_type": "code",
   "execution_count": null,
   "metadata": {
    "execution": {
     "iopub.execute_input": "2021-08-26T22:46:29.876623Z",
     "iopub.status.busy": "2021-08-26T22:46:29.8762Z",
     "iopub.status.idle": "2021-08-26T22:55:17.275445Z",
     "shell.execute_reply": "2021-08-26T22:55:17.274505Z",
     "shell.execute_reply.started": "2021-08-26T22:46:29.876579Z"
    }
   },
   "outputs": [],
   "source": [
    "hist = model.fit_generator(\n",
    "    train_generator,\n",
    "    steps_per_epoch=10,\n",
    "    epochs=10,\n",
    "    validation_data=val_generator,\n",
    "    validation_steps=2   \n",
    ")"
   ]
  },
  {
   "cell_type": "code",
   "execution_count": null,
   "metadata": {
    "execution": {
     "iopub.execute_input": "2021-08-26T22:55:17.278977Z",
     "iopub.status.busy": "2021-08-26T22:55:17.27865Z",
     "iopub.status.idle": "2021-08-26T22:55:17.285197Z",
     "shell.execute_reply": "2021-08-26T22:55:17.284216Z",
     "shell.execute_reply.started": "2021-08-26T22:55:17.278946Z"
    }
   },
   "outputs": [],
   "source": [
    "print(hist.history[\"val_accuracy\"][-1])\n",
    "print(hist.history[\"accuracy\"][-1])"
   ]
  }
 ],
 "metadata": {
  "kernelspec": {
   "display_name": "Python 3",
   "language": "python",
   "name": "python3"
  },
  "language_info": {
   "codemirror_mode": {
    "name": "ipython",
    "version": 3
   },
   "file_extension": ".py",
   "mimetype": "text/x-python",
   "name": "python",
   "nbconvert_exporter": "python",
   "pygments_lexer": "ipython3",
   "version": "3.9.5"
  }
 },
 "nbformat": 4,
 "nbformat_minor": 4
}
