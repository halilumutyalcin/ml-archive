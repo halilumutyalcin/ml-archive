{
 "cells": [
  {
   "cell_type": "code",
   "execution_count": null,
   "metadata": {
    "_cell_guid": "b1076dfc-b9ad-4769-8c92-a6c4dae69d19",
    "_kg_hide-input": true,
    "_kg_hide-output": true,
    "_uuid": "8f2839f25d086af736a60e9eeb907d3b93b6e0e5"
   },
   "outputs": [],
   "source": [
    "import numpy as np \n",
    "import pandas as pd"
   ]
  },
  {
   "cell_type": "code",
   "execution_count": null,
   "metadata": {},
   "outputs": [],
   "source": [
    "import matplotlib.pyplot as plt\n",
    "import seaborn as sns\n",
    "import datetime\n",
    "from sklearn.preprocessing import LabelEncoder\n",
    "from sklearn import preprocessing\n",
    "from sklearn.preprocessing import StandardScaler\n",
    "from sklearn.model_selection import train_test_split\n",
    "import seaborn as sns\n",
    "from keras.layers import Dense, BatchNormalization, Dropout, LSTM\n",
    "from keras.models import Sequential\n",
    "from keras.utils import to_categorical\n",
    "from keras.optimizers import Adam\n",
    "from tensorflow.keras import regularizers\n",
    "from sklearn.metrics import precision_score, recall_score, confusion_matrix, classification_report, accuracy_score, f1_score\n",
    "from keras import callbacks\n",
    "\n",
    "np.random.seed(0)"
   ]
  },
  {
   "cell_type": "code",
   "execution_count": null,
   "metadata": {},
   "outputs": [],
   "source": [
    "data = pd.read_csv(\"weatherAUS.csv\")\n",
    "data.head()"
   ]
  },
  {
   "cell_type": "code",
   "execution_count": null,
   "metadata": {},
   "outputs": [],
   "source": [
    "data.info()"
   ]
  },
  {
   "cell_type": "code",
   "execution_count": null,
   "metadata": {},
   "outputs": [],
   "source": [
    "#first of all let us evaluate the target and find out if our data is imbalanced or not\n",
    "cols= [\"#C2C4E2\",\"#EED4E5\"]\n",
    "sns.countplot(x= data[\"RainTomorrow\"], palette= cols)"
   ]
  },
  {
   "cell_type": "code",
   "execution_count": null,
   "metadata": {},
   "outputs": [],
   "source": [
    "# Correlation amongst numeric attributes\n",
    "corrmat = data.corr()\n",
    "cmap = sns.diverging_palette(260,-10,s=50, l=75, n=6, as_cmap=True)\n",
    "plt.subplots(figsize=(18,18))\n",
    "sns.heatmap(corrmat,cmap= cmap,annot=True, square=True)"
   ]
  },
  {
   "cell_type": "code",
   "execution_count": null,
   "metadata": {},
   "outputs": [],
   "source": [
    "#Parsing datetime\n",
    "#exploring the length of date objects\n",
    "lengths = data[\"Date\"].str.len()\n",
    "lengths.value_counts()"
   ]
  },
  {
   "cell_type": "code",
   "execution_count": null,
   "metadata": {},
   "outputs": [],
   "source": [
    "#There don't seem to be any error in dates so parsing values into datetime\n",
    "data['Date']= pd.to_datetime(data[\"Date\"])\n",
    "#Creating a collumn of year\n",
    "data['year'] = data.Date.dt.year\n",
    "\n",
    "# function to encode datetime into cyclic parameters. \n",
    "#As I am planning to use this data in a neural network I prefer the months and days in a cyclic continuous feature. \n",
    "\n",
    "def encode(data, col, max_val):\n",
    "    data[col + '_sin'] = np.sin(2 * np.pi * data[col]/max_val)\n",
    "    data[col + '_cos'] = np.cos(2 * np.pi * data[col]/max_val)\n",
    "    return data\n",
    "\n",
    "data['month'] = data.Date.dt.month\n",
    "data = encode(data, 'month', 12)\n",
    "\n",
    "data['day'] = data.Date.dt.day\n",
    "data = encode(data, 'day', 31)\n",
    "\n",
    "data.head()"
   ]
  },
  {
   "cell_type": "code",
   "execution_count": null,
   "metadata": {},
   "outputs": [],
   "source": [
    "# roughly a year's span section \n",
    "section = data[:360] \n",
    "tm = section[\"day\"].plot(color=\"#C2C4E2\")\n",
    "tm.set_title(\"Distribution Of Days Over Year\")\n",
    "tm.set_ylabel(\"Days In month\")\n",
    "tm.set_xlabel(\"Days In Year\")"
   ]
  },
  {
   "cell_type": "code",
   "execution_count": null,
   "metadata": {},
   "outputs": [],
   "source": [
    "cyclic_month = sns.scatterplot(x=\"month_sin\",y=\"month_cos\",data=data, color=\"#C2C4E2\")\n",
    "cyclic_month.set_title(\"Cyclic Encoding of Month\")\n",
    "cyclic_month.set_ylabel(\"Cosine Encoded Months\")\n",
    "cyclic_month.set_xlabel(\"Sine Encoded Months\")\n"
   ]
  },
  {
   "cell_type": "code",
   "execution_count": null,
   "metadata": {},
   "outputs": [],
   "source": [
    "cyclic_day = sns.scatterplot(x='day_sin',y='day_cos',data=data, color=\"#C2C4E2\")\n",
    "cyclic_day.set_title(\"Cyclic Encoding of Day\")\n",
    "cyclic_day.set_ylabel(\"Cosine Encoded Day\")\n",
    "cyclic_day.set_xlabel(\"Sine Encoded Day\")"
   ]
  },
  {
   "cell_type": "code",
   "execution_count": null,
   "metadata": {},
   "outputs": [],
   "source": [
    "# Get list of categorical variables\n",
    "s = (data.dtypes == \"object\")\n",
    "object_cols = list(s[s].index)\n",
    "\n",
    "print(\"Categorical variables:\")\n",
    "print(object_cols)"
   ]
  },
  {
   "cell_type": "code",
   "execution_count": null,
   "metadata": {},
   "outputs": [],
   "source": [
    "# Missing values in categorical variables\n",
    "\n",
    "for i in object_cols:\n",
    "    print(i, data[i].isnull().sum())"
   ]
  },
  {
   "cell_type": "code",
   "execution_count": null,
   "metadata": {},
   "outputs": [],
   "source": [
    "# Filling missing values with mode of the column in value\n",
    "\n",
    "for i in object_cols:\n",
    "    data[i].fillna(data[i].mode()[0], inplace=True)"
   ]
  },
  {
   "cell_type": "code",
   "execution_count": null,
   "metadata": {},
   "outputs": [],
   "source": [
    "# Get list of neumeric variables\n",
    "t = (data.dtypes == \"float64\")\n",
    "num_cols = list(t[t].index)\n",
    "\n",
    "print(\"Neumeric variables:\")\n",
    "print(num_cols)"
   ]
  },
  {
   "cell_type": "code",
   "execution_count": null,
   "metadata": {},
   "outputs": [],
   "source": [
    "# Missing values in numeric variables\n",
    "\n",
    "for i in num_cols:\n",
    "    print(i, data[i].isnull().sum())"
   ]
  },
  {
   "cell_type": "code",
   "execution_count": null,
   "metadata": {},
   "outputs": [],
   "source": [
    "# Filling missing values with median of the column in value\n",
    "\n",
    "for i in num_cols:\n",
    "    data[i].fillna(data[i].median(), inplace=True)\n",
    "    \n",
    "data.info()"
   ]
  },
  {
   "cell_type": "code",
   "execution_count": null,
   "metadata": {
    "_kg_hide-input": true
   },
   "outputs": [],
   "source": [
    "#plotting a lineplot rainfall over years\n",
    "plt.figure(figsize=(12,8))\n",
    "Time_series=sns.lineplot(x=data['Date'].dt.year,y=\"Rainfall\",data=data,color=\"#C2C4E2\")\n",
    "Time_series.set_title(\"Rainfall Over Years\")\n",
    "Time_series.set_ylabel(\"Rainfall\")\n",
    "Time_series.set_xlabel(\"Years\")"
   ]
  },
  {
   "cell_type": "code",
   "execution_count": null,
   "metadata": {
    "_kg_hide-input": true
   },
   "outputs": [],
   "source": [
    "#Evauating Wind gust speed over years\n",
    "colours = [\"#D0DBEE\", \"#C2C4E2\", \"#EED4E5\", \"#D1E6DC\", \"#BDE2E2\"]\n",
    "plt.figure(figsize=(12,8))\n",
    "Days_of_week=sns.barplot(x=data['Date'].dt.year,y=\"WindGustSpeed\",data=data, ci =None,palette = colours)\n",
    "Days_of_week.set_title(\"Wind Gust Speed Over Years\")\n",
    "Days_of_week.set_ylabel(\"WindGustSpeed\")\n",
    "Days_of_week.set_xlabel(\"Year\")"
   ]
  },
  {
   "cell_type": "code",
   "execution_count": null,
   "metadata": {},
   "outputs": [],
   "source": [
    "# Apply label encoder to each column with categorical data\n",
    "label_encoder = LabelEncoder()\n",
    "for i in object_cols:\n",
    "    data[i] = label_encoder.fit_transform(data[i])\n",
    "    \n",
    "data.info()"
   ]
  },
  {
   "cell_type": "code",
   "execution_count": null,
   "metadata": {},
   "outputs": [],
   "source": [
    "# Prepairing attributes of scale data\n",
    "\n",
    "features = data.drop(['RainTomorrow', 'Date','day', 'month'], axis=1) # dropping target and extra columns\n",
    "\n",
    "target = data['RainTomorrow']\n",
    "\n",
    "#Set up a standard scaler for the features\n",
    "col_names = list(features.columns)\n",
    "s_scaler = preprocessing.StandardScaler()\n",
    "features = s_scaler.fit_transform(features)\n",
    "features = pd.DataFrame(features, columns=col_names) \n",
    "\n",
    "features.describe().T"
   ]
  },
  {
   "cell_type": "code",
   "execution_count": null,
   "metadata": {},
   "outputs": [],
   "source": [
    "#Detecting outliers\n",
    "#looking at the scaled features\n",
    "colours = [\"#D0DBEE\", \"#C2C4E2\", \"#EED4E5\", \"#D1E6DC\", \"#BDE2E2\"]\n",
    "plt.figure(figsize=(20,10))\n",
    "sns.boxenplot(data = features,palette = colours)\n",
    "plt.xticks(rotation=90)\n",
    "plt.show()"
   ]
  },
  {
   "cell_type": "code",
   "execution_count": null,
   "metadata": {},
   "outputs": [],
   "source": [
    "#full data for \n",
    "features[\"RainTomorrow\"] = target\n",
    "\n",
    "#Dropping with outlier\n",
    "\n",
    "features = features[(features[\"MinTemp\"]<2.3)&(features[\"MinTemp\"]>-2.3)]\n",
    "features = features[(features[\"MaxTemp\"]<2.3)&(features[\"MaxTemp\"]>-2)]\n",
    "features = features[(features[\"Rainfall\"]<4.5)]\n",
    "features = features[(features[\"Evaporation\"]<2.8)]\n",
    "features = features[(features[\"Sunshine\"]<2.1)]\n",
    "features = features[(features[\"WindGustSpeed\"]<4)&(features[\"WindGustSpeed\"]>-4)]\n",
    "features = features[(features[\"WindSpeed9am\"]<4)]\n",
    "features = features[(features[\"WindSpeed3pm\"]<2.5)]\n",
    "features = features[(features[\"Humidity9am\"]>-3)]\n",
    "features = features[(features[\"Humidity3pm\"]>-2.2)]\n",
    "features = features[(features[\"Pressure9am\"]< 2)&(features[\"Pressure9am\"]>-2.7)]\n",
    "features = features[(features[\"Pressure3pm\"]< 2)&(features[\"Pressure3pm\"]>-2.7)]\n",
    "features = features[(features[\"Cloud9am\"]<1.8)]\n",
    "features = features[(features[\"Cloud3pm\"]<2)]\n",
    "features = features[(features[\"Temp9am\"]<2.3)&(features[\"Temp9am\"]>-2)]\n",
    "features = features[(features[\"Temp3pm\"]<2.3)&(features[\"Temp3pm\"]>-2)]\n",
    "\n",
    "\n",
    "features.shape"
   ]
  },
  {
   "cell_type": "code",
   "execution_count": null,
   "metadata": {},
   "outputs": [],
   "source": [
    "#looking at the scaled features without outliers\n",
    "\n",
    "plt.figure(figsize=(20,10))\n",
    "sns.boxenplot(data = features,palette = colours)\n",
    "plt.xticks(rotation=90)\n",
    "plt.show()"
   ]
  },
  {
   "cell_type": "code",
   "execution_count": null,
   "metadata": {},
   "outputs": [],
   "source": [
    "X = features.drop([\"RainTomorrow\"], axis=1)\n",
    "y = features[\"RainTomorrow\"]\n",
    "\n",
    "# Splitting test and training sets\n",
    "X_train, X_test, y_train, y_test = train_test_split(X, y, test_size = 0.2, random_state = 42)\n",
    "\n",
    "X.shape"
   ]
  },
  {
   "cell_type": "code",
   "execution_count": null,
   "metadata": {
    "_kg_hide-output": true
   },
   "outputs": [],
   "source": [
    "#Early stopping\n",
    "early_stopping = callbacks.EarlyStopping(\n",
    "    min_delta=0.001, # minimium amount of change to count as an improvement\n",
    "    patience=20, # how many epochs to wait before stopping\n",
    "    restore_best_weights=True,\n",
    ")\n",
    "\n",
    "# Initialising the NN\n",
    "model = Sequential()\n",
    "\n",
    "# layers\n",
    "\n",
    "model.add(Dense(units = 32, kernel_initializer = 'uniform', activation = 'relu', input_dim = 26))\n",
    "model.add(Dense(units = 32, kernel_initializer = 'uniform', activation = 'relu'))\n",
    "model.add(Dense(units = 16, kernel_initializer = 'uniform', activation = 'relu'))\n",
    "model.add(Dropout(0.25))\n",
    "model.add(Dense(units = 8, kernel_initializer = 'uniform', activation = 'relu'))\n",
    "model.add(Dropout(0.5))\n",
    "model.add(Dense(units = 1, kernel_initializer = 'uniform', activation = 'sigmoid'))\n",
    "\n",
    "# Compiling the ANN\n",
    "opt = Adam(learning_rate=0.00009)\n",
    "model.compile(optimizer = opt, loss = 'binary_crossentropy', metrics = ['accuracy'])\n",
    "\n",
    "# Train the ANN\n",
    "history = model.fit(X_train, y_train, batch_size = 32, epochs = 150, callbacks=[early_stopping], validation_split=0.2)"
   ]
  },
  {
   "cell_type": "code",
   "execution_count": null,
   "metadata": {},
   "outputs": [],
   "source": [
    "history_df = pd.DataFrame(history.history)\n",
    "\n",
    "plt.plot(history_df.loc[:, ['loss']], \"#BDE2E2\", label='Training loss')\n",
    "plt.plot(history_df.loc[:, ['val_loss']],\"#C2C4E2\", label='Validation loss')\n",
    "plt.title('Training and Validation loss')\n",
    "plt.xlabel('Epochs')\n",
    "plt.ylabel('Loss')\n",
    "plt.legend(loc=\"best\")\n",
    "\n",
    "plt.show()"
   ]
  },
  {
   "cell_type": "code",
   "execution_count": null,
   "metadata": {},
   "outputs": [],
   "source": [
    "history_df = pd.DataFrame(history.history)\n",
    "\n",
    "plt.plot(history_df.loc[:, ['accuracy']], \"#BDE2E2\", label='Training accuracy')\n",
    "plt.plot(history_df.loc[:, ['val_accuracy']], \"#C2C4E2\", label='Validation accuracy')\n",
    "\n",
    "plt.title('Training and Validation accuracy')\n",
    "plt.xlabel('Epochs')\n",
    "plt.ylabel('Accuracy')\n",
    "plt.legend()\n",
    "plt.show()"
   ]
  },
  {
   "cell_type": "code",
   "execution_count": null,
   "metadata": {},
   "outputs": [],
   "source": [
    "# Predicting the test set results\n",
    "y_pred = model.predict(X_test)\n",
    "y_pred = (y_pred > 0.5)"
   ]
  },
  {
   "cell_type": "code",
   "execution_count": null,
   "metadata": {},
   "outputs": [],
   "source": [
    "# confusion matrix\n",
    "cmap1 = sns.diverging_palette(260,-10,s=50, l=75, n=5, as_cmap=True)\n",
    "plt.subplots(figsize=(12,8))\n",
    "cf_matrix = confusion_matrix(y_test, y_pred)\n",
    "sns.heatmap(cf_matrix/np.sum(cf_matrix), cmap = cmap1, annot = True, annot_kws = {'size':15})"
   ]
  },
  {
   "cell_type": "code",
   "execution_count": null,
   "metadata": {},
   "outputs": [],
   "source": [
    "print(classification_report(y_test, y_pred))"
   ]
  }
 ],
 "metadata": {
  "kernelspec": {
   "display_name": "Python 3",
   "language": "python",
   "name": "python3"
  },
  "language_info": {
   "codemirror_mode": {
    "name": "ipython",
    "version": 3
   },
   "file_extension": ".py",
   "mimetype": "text/x-python",
   "name": "python",
   "nbconvert_exporter": "python",
   "pygments_lexer": "ipython3",
   "version": "3.9.5"
  }
 },
 "nbformat": 4,
 "nbformat_minor": 4
}
