{
 "cells": [
  {
   "cell_type": "code",
   "execution_count": null,
   "metadata": {
    "_cell_guid": "b1076dfc-b9ad-4769-8c92-a6c4dae69d19",
    "_uuid": "8f2839f25d086af736a60e9eeb907d3b93b6e0e5",
    "execution": {
     "iopub.execute_input": "2021-08-25T13:44:42.302389Z",
     "iopub.status.busy": "2021-08-25T13:44:42.30167Z",
     "iopub.status.idle": "2021-08-25T13:44:42.314904Z",
     "shell.execute_reply": "2021-08-25T13:44:42.314002Z",
     "shell.execute_reply.started": "2021-08-25T13:44:42.302298Z"
    }
   },
   "outputs": [],
   "source": [
    "import numpy as np\n",
    "import pandas as pd"
   ]
  },
  {
   "cell_type": "code",
   "execution_count": null,
   "metadata": {
    "execution": {
     "iopub.execute_input": "2021-08-25T13:53:03.873553Z",
     "iopub.status.busy": "2021-08-25T13:53:03.873201Z",
     "iopub.status.idle": "2021-08-25T13:53:13.565273Z",
     "shell.execute_reply": "2021-08-25T13:53:13.564501Z",
     "shell.execute_reply.started": "2021-08-25T13:53:03.873525Z"
    }
   },
   "outputs": [],
   "source": [
    "import matplotlib.pyplot as plt\n",
    "import seaborn as sns \n",
    "from scipy import stats\n",
    "\n",
    "from keras.datasets import imdb\n",
    "from keras.preprocessing.sequence import pad_sequences\n",
    "from keras.models import Sequential\n",
    "from keras.layers.embeddings import Embedding\n",
    "from keras.layers import SimpleRNN, Dense, Activation\n",
    "\n",
    "top_words = 10000\n",
    "(X_train, y_train), (X_test, y_test) = imdb.load_data(nb_words = top_words)"
   ]
  },
  {
   "cell_type": "code",
   "execution_count": null,
   "metadata": {
    "execution": {
     "iopub.execute_input": "2021-08-25T14:03:32.237569Z",
     "iopub.status.busy": "2021-08-25T14:03:32.236416Z",
     "iopub.status.idle": "2021-08-25T14:03:32.246849Z",
     "shell.execute_reply": "2021-08-25T14:03:32.245681Z",
     "shell.execute_reply.started": "2021-08-25T14:03:32.237514Z"
    }
   },
   "outputs": [],
   "source": [
    "unique, counts = np.unique(y_train, return_counts = True)\n",
    "print(\"Y train distribution: \",dict(zip(unique, counts)))"
   ]
  },
  {
   "cell_type": "code",
   "execution_count": null,
   "metadata": {
    "execution": {
     "iopub.execute_input": "2021-08-25T14:04:08.542335Z",
     "iopub.status.busy": "2021-08-25T14:04:08.541867Z",
     "iopub.status.idle": "2021-08-25T14:04:08.547413Z",
     "shell.execute_reply": "2021-08-25T14:04:08.546792Z",
     "shell.execute_reply.started": "2021-08-25T14:04:08.542305Z"
    }
   },
   "outputs": [],
   "source": [
    "unique, counts = np.unique(y_test, return_counts = True)\n",
    "print(\"Y test distribution: \",dict(zip(unique, counts)))"
   ]
  },
  {
   "cell_type": "code",
   "execution_count": null,
   "metadata": {
    "execution": {
     "iopub.execute_input": "2021-08-25T14:05:52.081922Z",
     "iopub.status.busy": "2021-08-25T14:05:52.081546Z",
     "iopub.status.idle": "2021-08-25T14:05:52.087875Z",
     "shell.execute_reply": "2021-08-25T14:05:52.086739Z",
     "shell.execute_reply.started": "2021-08-25T14:05:52.081892Z"
    }
   },
   "outputs": [],
   "source": [
    "d = X_train[0]\n",
    "print(d)\n",
    "print(len(d))"
   ]
  },
  {
   "cell_type": "code",
   "execution_count": null,
   "metadata": {
    "execution": {
     "iopub.execute_input": "2021-08-25T14:12:49.972978Z",
     "iopub.status.busy": "2021-08-25T14:12:49.972552Z",
     "iopub.status.idle": "2021-08-25T14:12:49.996582Z",
     "shell.execute_reply": "2021-08-25T14:12:49.995334Z",
     "shell.execute_reply.started": "2021-08-25T14:12:49.972942Z"
    }
   },
   "outputs": [],
   "source": [
    "review_len_train = []\n",
    "review_len_test = []\n",
    "\n",
    "for i, ii in zip(X_train,X_test):\n",
    "    review_len_train.append(len(i))\n",
    "    review_len_test.append(len(ii))"
   ]
  },
  {
   "cell_type": "code",
   "execution_count": null,
   "metadata": {
    "execution": {
     "iopub.execute_input": "2021-08-25T14:15:46.409609Z",
     "iopub.status.busy": "2021-08-25T14:15:46.409208Z",
     "iopub.status.idle": "2021-08-25T14:15:47.412158Z",
     "shell.execute_reply": "2021-08-25T14:15:47.411126Z",
     "shell.execute_reply.started": "2021-08-25T14:15:46.409573Z"
    }
   },
   "outputs": [],
   "source": [
    "sns.distplot(review_len_train, hist_kws = {\"alpha\":0.3})\n",
    "sns.distplot(review_len_test, hist_kws = {\"alpha\":0.3})\n",
    "\n",
    "print(\"Train mean: \", np.mean(review_len_train))\n",
    "print(\"Train median: \", np.median(review_len_train))\n",
    "print(\"Train mode: \", stats.mode(review_len_train))"
   ]
  },
  {
   "cell_type": "code",
   "execution_count": null,
   "metadata": {
    "execution": {
     "iopub.execute_input": "2021-08-25T15:12:00.953847Z",
     "iopub.status.busy": "2021-08-25T15:12:00.953293Z",
     "iopub.status.idle": "2021-08-25T15:12:10.410573Z",
     "shell.execute_reply": "2021-08-25T15:12:10.409606Z",
     "shell.execute_reply.started": "2021-08-25T15:12:00.953814Z"
    }
   },
   "outputs": [],
   "source": [
    "num_words = 1000\n",
    "(X_train, y_train), (X_test, y_test) = imdb.load_data(num_words = num_words)\n",
    "\n",
    "maxlen = 32\n",
    "X_train = pad_sequences(X_train, maxlen = maxlen)\n",
    "X_test = pad_sequences(X_test, maxlen = maxlen)"
   ]
  },
  {
   "cell_type": "code",
   "execution_count": null,
   "metadata": {
    "execution": {
     "iopub.execute_input": "2021-08-25T15:19:40.494054Z",
     "iopub.status.busy": "2021-08-25T15:19:40.493656Z",
     "iopub.status.idle": "2021-08-25T15:19:58.174306Z",
     "shell.execute_reply": "2021-08-25T15:19:58.173188Z",
     "shell.execute_reply.started": "2021-08-25T15:19:40.494025Z"
    }
   },
   "outputs": [],
   "source": [
    "rnn = Sequential()\n",
    "rnn.add(Embedding(num_words,16,input_length=(maxlen)))\n",
    "rnn.add(SimpleRNN(16,input_shape=(num_words,maxlen),return_sequences = False, activation=\"tanh\"))\n",
    "rnn.add(Dense(1))\n",
    "rnn.add(Activation(\"sigmoid\"))\n",
    "\n",
    "print(rnn.summary())\n",
    "rnn.compile(loss=\"binary_crossentropy\",optimizer=\"adam\", metrics=[\"accuracy\"])\n",
    "history = rnn.fit(X_train,y_train, validation_data=(X_test,y_test), epochs=2,batch_size=32,verbose=1)"
   ]
  },
  {
   "cell_type": "code",
   "execution_count": null,
   "metadata": {
    "execution": {
     "iopub.execute_input": "2021-08-25T15:19:58.176242Z",
     "iopub.status.busy": "2021-08-25T15:19:58.175954Z",
     "iopub.status.idle": "2021-08-25T15:19:58.54175Z",
     "shell.execute_reply": "2021-08-25T15:19:58.540723Z",
     "shell.execute_reply.started": "2021-08-25T15:19:58.176215Z"
    }
   },
   "outputs": [],
   "source": [
    "print(f\"Accuracy:\",round(history.history[\"accuracy\"][-1]*100,2))\n",
    "\n",
    "plt.figure()\n",
    "plt.plot(history.history[\"accuracy\"], label = \"Train\")\n",
    "plt.plot(history.history[\"val_accuracy\"], label = \"Test\")\n",
    "plt.title(\"Acc\")\n",
    "plt.ylabel(\"Acc\")\n",
    "plt.xlabel(\"Epochs\")\n",
    "plt.legend()\n",
    "plt.show()\n",
    "\n",
    "plt.figure()\n",
    "plt.plot(history.history[\"loss\"], label = \"Train\")\n",
    "plt.plot(history.history[\"val_loss\"], label = \"Test\")\n",
    "plt.title(\"Loss\")\n",
    "plt.ylabel(\"Loss\")\n",
    "plt.xlabel(\"Epochs\")\n",
    "plt.legend()\n",
    "plt.show()"
   ]
  },
  {
   "cell_type": "code",
   "execution_count": null,
   "metadata": {
    "execution": {
     "iopub.execute_input": "2021-08-25T15:22:21.311234Z",
     "iopub.status.busy": "2021-08-25T15:22:21.310768Z",
     "iopub.status.idle": "2021-08-25T15:22:21.315455Z",
     "shell.execute_reply": "2021-08-25T15:22:21.314539Z",
     "shell.execute_reply.started": "2021-08-25T15:22:21.311196Z"
    }
   },
   "outputs": [],
   "source": [
    "from keras.layers import LSTM"
   ]
  },
  {
   "cell_type": "code",
   "execution_count": null,
   "metadata": {
    "execution": {
     "iopub.execute_input": "2021-08-25T15:24:30.606051Z",
     "iopub.status.busy": "2021-08-25T15:24:30.605556Z",
     "iopub.status.idle": "2021-08-25T15:24:40.23557Z",
     "shell.execute_reply": "2021-08-25T15:24:40.234602Z",
     "shell.execute_reply.started": "2021-08-25T15:24:30.60601Z"
    }
   },
   "outputs": [],
   "source": [
    "max_words = 10240\n",
    "maxlen = 32\n",
    "\n",
    "(X_train, y_train), (_,_) = imdb.load_data(nb_words = max_words)\n",
    "X_train = pad_sequences(X_train, maxlen = maxlen)\n",
    "X_test = pad_sequences(X_test, maxlen = maxlen)"
   ]
  },
  {
   "cell_type": "code",
   "execution_count": null,
   "metadata": {
    "execution": {
     "iopub.execute_input": "2021-08-25T15:41:25.032074Z",
     "iopub.status.busy": "2021-08-25T15:41:25.031648Z",
     "iopub.status.idle": "2021-08-25T15:44:22.278088Z",
     "shell.execute_reply": "2021-08-25T15:44:22.27714Z",
     "shell.execute_reply.started": "2021-08-25T15:41:25.032041Z"
    }
   },
   "outputs": [],
   "source": [
    "model = Sequential()\n",
    "model.add(Embedding(max_words, 16, input_length = maxlen))\n",
    "model.add(LSTM(128))\n",
    "model.add(Dense(1,activation=\"sigmoid\"))\n",
    "model.compile(optimizer=\"adam\",loss=\"binary_crossentropy\",metrics= [\"accuracy\"])\n",
    "\n",
    "history = model.fit(X_train, y_train, batch_size=128,epochs=10,verbose=1, validation_data=(X_test,y_test))"
   ]
  },
  {
   "cell_type": "code",
   "execution_count": null,
   "metadata": {
    "execution": {
     "iopub.execute_input": "2021-08-25T15:44:22.280201Z",
     "iopub.status.busy": "2021-08-25T15:44:22.279897Z",
     "iopub.status.idle": "2021-08-25T15:44:22.287327Z",
     "shell.execute_reply": "2021-08-25T15:44:22.286399Z",
     "shell.execute_reply.started": "2021-08-25T15:44:22.280172Z"
    }
   },
   "outputs": [],
   "source": [
    "print(model.summary())\n"
   ]
  },
  {
   "cell_type": "code",
   "execution_count": null,
   "metadata": {
    "execution": {
     "iopub.execute_input": "2021-08-25T15:44:22.289503Z",
     "iopub.status.busy": "2021-08-25T15:44:22.288969Z",
     "iopub.status.idle": "2021-08-25T15:44:22.629753Z",
     "shell.execute_reply": "2021-08-25T15:44:22.62875Z",
     "shell.execute_reply.started": "2021-08-25T15:44:22.28946Z"
    }
   },
   "outputs": [],
   "source": [
    "print(f\"Accuracy:\",round(history.history[\"accuracy\"][-1]*100,2))\n",
    "\n",
    "plt.figure()\n",
    "plt.plot(history.history[\"accuracy\"], label = \"Train\")\n",
    "plt.plot(history.history[\"val_accuracy\"], label = \"Test\")\n",
    "plt.title(\"Acc\")\n",
    "plt.ylabel(\"Acc\")\n",
    "plt.xlabel(\"Epochs\")\n",
    "plt.legend()\n",
    "plt.show()\n",
    "\n",
    "plt.figure()\n",
    "plt.plot(history.history[\"loss\"], label = \"Train\")\n",
    "plt.plot(history.history[\"val_loss\"], label = \"Test\")\n",
    "plt.title(\"Loss\")\n",
    "plt.ylabel(\"Loss\")\n",
    "plt.xlabel(\"Epochs\")\n",
    "plt.legend()\n",
    "plt.show()"
   ]
  },
  {
   "cell_type": "code",
   "execution_count": null,
   "metadata": {},
   "outputs": [],
   "source": []
  }
 ],
 "metadata": {
  "kernelspec": {
   "display_name": "Python 3",
   "language": "python",
   "name": "python3"
  },
  "language_info": {
   "codemirror_mode": {
    "name": "ipython",
    "version": 3
   },
   "file_extension": ".py",
   "mimetype": "text/x-python",
   "name": "python",
   "nbconvert_exporter": "python",
   "pygments_lexer": "ipython3",
   "version": "3.9.5"
  }
 },
 "nbformat": 4,
 "nbformat_minor": 4
}
