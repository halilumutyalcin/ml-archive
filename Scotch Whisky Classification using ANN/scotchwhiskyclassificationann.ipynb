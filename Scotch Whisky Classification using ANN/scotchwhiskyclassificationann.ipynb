{
 "cells": [
  {
   "cell_type": "code",
   "execution_count": null,
   "metadata": {
    "_cell_guid": "b1076dfc-b9ad-4769-8c92-a6c4dae69d19",
    "_uuid": "8f2839f25d086af736a60e9eeb907d3b93b6e0e5",
    "execution": {
     "iopub.execute_input": "2021-08-27T16:34:01.671387Z",
     "iopub.status.busy": "2021-08-27T16:34:01.670644Z",
     "iopub.status.idle": "2021-08-27T16:34:01.694759Z",
     "shell.execute_reply": "2021-08-27T16:34:01.693319Z",
     "shell.execute_reply.started": "2021-08-27T16:34:01.671273Z"
    }
   },
   "outputs": [],
   "source": [
    "import numpy as np\n",
    "import pandas as pd"
   ]
  },
  {
   "cell_type": "code",
   "execution_count": null,
   "metadata": {
    "execution": {
     "iopub.execute_input": "2021-08-27T16:48:40.176521Z",
     "iopub.status.busy": "2021-08-27T16:48:40.176134Z",
     "iopub.status.idle": "2021-08-27T16:48:40.20448Z",
     "shell.execute_reply": "2021-08-27T16:48:40.20354Z",
     "shell.execute_reply.started": "2021-08-27T16:48:40.17649Z"
    }
   },
   "outputs": [],
   "source": [
    "data = pd.read_csv(\"whisky.csv\")\n",
    "data.drop([\"RowID\",\"Postcode\",\"Latitude\",\"Longitude\"], axis=1, inplace=True)\n",
    "data.head()"
   ]
  },
  {
   "cell_type": "code",
   "execution_count": null,
   "metadata": {
    "execution": {
     "iopub.execute_input": "2021-08-27T17:06:14.899045Z",
     "iopub.status.busy": "2021-08-27T17:06:14.898621Z",
     "iopub.status.idle": "2021-08-27T17:06:14.907517Z",
     "shell.execute_reply": "2021-08-27T17:06:14.906264Z",
     "shell.execute_reply.started": "2021-08-27T17:06:14.89901Z"
    }
   },
   "outputs": [],
   "source": [
    "X = data.copy()\n",
    "X.drop([\"Sweetness\"],axis=1,inplace=True)\n",
    "X = np.array(X)"
   ]
  },
  {
   "cell_type": "code",
   "execution_count": null,
   "metadata": {
    "execution": {
     "iopub.execute_input": "2021-08-27T17:06:15.750518Z",
     "iopub.status.busy": "2021-08-27T17:06:15.750108Z",
     "iopub.status.idle": "2021-08-27T17:06:15.755631Z",
     "shell.execute_reply": "2021-08-27T17:06:15.754534Z",
     "shell.execute_reply.started": "2021-08-27T17:06:15.750486Z"
    }
   },
   "outputs": [],
   "source": [
    "y = data[\"Sweetness\"]\n",
    "y = np.array(y)"
   ]
  },
  {
   "cell_type": "code",
   "execution_count": null,
   "metadata": {
    "execution": {
     "iopub.execute_input": "2021-08-27T17:06:16.473055Z",
     "iopub.status.busy": "2021-08-27T17:06:16.472293Z",
     "iopub.status.idle": "2021-08-27T17:06:16.47909Z",
     "shell.execute_reply": "2021-08-27T17:06:16.478269Z",
     "shell.execute_reply.started": "2021-08-27T17:06:16.473014Z"
    }
   },
   "outputs": [],
   "source": [
    "from sklearn.model_selection import train_test_split as tts\n",
    "X_train, X_test, y_train, y_test = tts(X,y,test_size=0.2, random_state=42)"
   ]
  },
  {
   "cell_type": "code",
   "execution_count": null,
   "metadata": {
    "execution": {
     "iopub.execute_input": "2021-08-27T17:06:17.276492Z",
     "iopub.status.busy": "2021-08-27T17:06:17.275754Z",
     "iopub.status.idle": "2021-08-27T17:06:17.28134Z",
     "shell.execute_reply": "2021-08-27T17:06:17.280233Z",
     "shell.execute_reply.started": "2021-08-27T17:06:17.276443Z"
    }
   },
   "outputs": [],
   "source": [
    "from keras.models import Sequential\n",
    "from keras.wrappers.scikit_learn import KerasClassifier\n",
    "from sklearn.model_selection import cross_val_score\n",
    "from keras.layers import Dense, Dropout"
   ]
  },
  {
   "cell_type": "code",
   "execution_count": null,
   "metadata": {
    "execution": {
     "iopub.execute_input": "2021-08-27T17:06:18.128709Z",
     "iopub.status.busy": "2021-08-27T17:06:18.128289Z",
     "iopub.status.idle": "2021-08-27T17:06:18.284531Z",
     "shell.execute_reply": "2021-08-27T17:06:18.282877Z",
     "shell.execute_reply.started": "2021-08-27T17:06:18.128674Z"
    }
   },
   "outputs": [],
   "source": [
    "def build_classifier():\n",
    "    model = Sequential()\n",
    "\n",
    "    model.add(Dense(units=16, kernel_initializer=\"uniform\", activation=\"relu\", input_dim=X_train.shape[1]))\n",
    "    model.add(Dropout(0.1))\n",
    "    model.add(Dense(units=16, kernel_initializer=\"uniform\", activation=\"relu\"))\n",
    "    model.add(Dropout(0.1))\n",
    "    model.add(Dense(units=16, kernel_initializer=\"uniform\", activation=\"softmax\"))\n",
    "    model.add(Dropout(0.1))\n",
    "\n",
    "    model.compile(optimizer=\"adam\", loss=\"binary_crossentropy\",metrics=[\"accuracy\"])\n",
    "    return model\n",
    "\n",
    "classifier = KerasClassifier(build_fn = build_classifier, epochs=100)\n",
    "accuracies = cross_val_score(estimator = classifier, X = X_train, y = y_train, cv = 3) #cross validation = 3 yani\n",
    "mean = accuracies.mean()\n",
    "variance = accuracies.std()\n",
    "\n"
   ]
  },
  {
   "cell_type": "code",
   "execution_count": null,
   "metadata": {
    "execution": {
     "iopub.execute_input": "2021-08-27T17:05:16.418276Z",
     "iopub.status.busy": "2021-08-27T17:05:16.417904Z",
     "iopub.status.idle": "2021-08-27T17:05:16.424836Z",
     "shell.execute_reply": "2021-08-27T17:05:16.423437Z",
     "shell.execute_reply.started": "2021-08-27T17:05:16.418243Z"
    }
   },
   "outputs": [],
   "source": [
    "print(\"Accuracy mean: \"+ str(mean))\n",
    "print(\"Accuracy variance: \"+ str(variance))"
   ]
  },
  {
   "cell_type": "code",
   "execution_count": null,
   "metadata": {},
   "outputs": [],
   "source": []
  }
 ],
 "metadata": {
  "kernelspec": {
   "display_name": "Python 3",
   "language": "python",
   "name": "python3"
  },
  "language_info": {
   "codemirror_mode": {
    "name": "ipython",
    "version": 3
   },
   "file_extension": ".py",
   "mimetype": "text/x-python",
   "name": "python",
   "nbconvert_exporter": "python",
   "pygments_lexer": "ipython3",
   "version": "3.9.5"
  }
 },
 "nbformat": 4,
 "nbformat_minor": 4
}
