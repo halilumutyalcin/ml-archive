{
 "cells": [
  {
   "cell_type": "code",
   "execution_count": 1,
   "metadata": {
    "_cell_guid": "b1076dfc-b9ad-4769-8c92-a6c4dae69d19",
    "_uuid": "8f2839f25d086af736a60e9eeb907d3b93b6e0e5",
    "execution": {
     "iopub.execute_input": "2021-08-25T13:44:42.302389Z",
     "iopub.status.busy": "2021-08-25T13:44:42.301670Z",
     "iopub.status.idle": "2021-08-25T13:44:42.314904Z",
     "shell.execute_reply": "2021-08-25T13:44:42.314002Z",
     "shell.execute_reply.started": "2021-08-25T13:44:42.302298Z"
    }
   },
   "outputs": [],
   "source": [
    "import numpy as np\n",
    "import pandas as pd "
   ]
  },
  {
   "cell_type": "code",
   "execution_count": 4,
   "metadata": {
    "execution": {
     "iopub.execute_input": "2021-08-25T13:53:03.873553Z",
     "iopub.status.busy": "2021-08-25T13:53:03.873201Z",
     "iopub.status.idle": "2021-08-25T13:53:13.565273Z",
     "shell.execute_reply": "2021-08-25T13:53:13.564501Z",
     "shell.execute_reply.started": "2021-08-25T13:53:03.873525Z"
    }
   },
   "outputs": [
    {
     "name": "stdout",
     "output_type": "stream",
     "text": [
      "Downloading data from https://storage.googleapis.com/tensorflow/tf-keras-datasets/imdb.npz\n",
      "17465344/17464789 [==============================] - 0s 0us/step\n"
     ]
    },
    {
     "name": "stderr",
     "output_type": "stream",
     "text": [
      "<string>:6: VisibleDeprecationWarning: Creating an ndarray from ragged nested sequences (which is a list-or-tuple of lists-or-tuples-or ndarrays with different lengths or shapes) is deprecated. If you meant to do this, you must specify 'dtype=object' when creating the ndarray\n",
      "/opt/conda/lib/python3.7/site-packages/tensorflow/python/keras/datasets/imdb.py:159: VisibleDeprecationWarning: Creating an ndarray from ragged nested sequences (which is a list-or-tuple of lists-or-tuples-or ndarrays with different lengths or shapes) is deprecated. If you meant to do this, you must specify 'dtype=object' when creating the ndarray\n",
      "  x_train, y_train = np.array(xs[:idx]), np.array(labels[:idx])\n",
      "/opt/conda/lib/python3.7/site-packages/tensorflow/python/keras/datasets/imdb.py:160: VisibleDeprecationWarning: Creating an ndarray from ragged nested sequences (which is a list-or-tuple of lists-or-tuples-or ndarrays with different lengths or shapes) is deprecated. If you meant to do this, you must specify 'dtype=object' when creating the ndarray\n",
      "  x_test, y_test = np.array(xs[idx:]), np.array(labels[idx:])\n"
     ]
    }
   ],
   "source": [
    "import matplotlib.pyplot as plt\n",
    "import seaborn as sns \n",
    "from scipy import stats\n",
    "\n",
    "from keras.datasets import imdb\n",
    "from keras.preprocessing.sequence import pad_sequences\n",
    "from keras.models import Sequential\n",
    "from keras.layers.embeddings import Embedding\n",
    "from keras.layers import SimpleRNN, Dense, Activation\n",
    "\n",
    "top_words = 10000\n",
    "(X_train, y_train), (X_test, y_test) = imdb.load_data(nb_words = top_words)"
   ]
  },
  {
   "cell_type": "code",
   "execution_count": 5,
   "metadata": {
    "execution": {
     "iopub.execute_input": "2021-08-25T14:03:32.237569Z",
     "iopub.status.busy": "2021-08-25T14:03:32.236416Z",
     "iopub.status.idle": "2021-08-25T14:03:32.246849Z",
     "shell.execute_reply": "2021-08-25T14:03:32.245681Z",
     "shell.execute_reply.started": "2021-08-25T14:03:32.237514Z"
    }
   },
   "outputs": [
    {
     "name": "stdout",
     "output_type": "stream",
     "text": [
      "Y train distribution:  {0: 12500, 1: 12500}\n"
     ]
    }
   ],
   "source": [
    "unique, counts = np.unique(y_train, return_counts = True)\n",
    "print(\"Y train distribution: \",dict(zip(unique, counts)))"
   ]
  },
  {
   "cell_type": "code",
   "execution_count": 6,
   "metadata": {
    "execution": {
     "iopub.execute_input": "2021-08-25T14:04:08.542335Z",
     "iopub.status.busy": "2021-08-25T14:04:08.541867Z",
     "iopub.status.idle": "2021-08-25T14:04:08.547413Z",
     "shell.execute_reply": "2021-08-25T14:04:08.546792Z",
     "shell.execute_reply.started": "2021-08-25T14:04:08.542305Z"
    }
   },
   "outputs": [
    {
     "name": "stdout",
     "output_type": "stream",
     "text": [
      "Y test distribution:  {0: 12500, 1: 12500}\n"
     ]
    }
   ],
   "source": [
    "unique, counts = np.unique(y_test, return_counts = True)\n",
    "print(\"Y test distribution: \",dict(zip(unique, counts)))"
   ]
  },
  {
   "cell_type": "code",
   "execution_count": 8,
   "metadata": {
    "execution": {
     "iopub.execute_input": "2021-08-25T14:05:52.081922Z",
     "iopub.status.busy": "2021-08-25T14:05:52.081546Z",
     "iopub.status.idle": "2021-08-25T14:05:52.087875Z",
     "shell.execute_reply": "2021-08-25T14:05:52.086739Z",
     "shell.execute_reply.started": "2021-08-25T14:05:52.081892Z"
    }
   },
   "outputs": [
    {
     "name": "stdout",
     "output_type": "stream",
     "text": [
      "[1, 14, 22, 16, 43, 530, 973, 1622, 1385, 65, 458, 4468, 66, 3941, 4, 173, 36, 256, 5, 25, 100, 43, 838, 112, 50, 670, 2, 9, 35, 480, 284, 5, 150, 4, 172, 112, 167, 2, 336, 385, 39, 4, 172, 4536, 1111, 17, 546, 38, 13, 447, 4, 192, 50, 16, 6, 147, 2025, 19, 14, 22, 4, 1920, 4613, 469, 4, 22, 71, 87, 12, 16, 43, 530, 38, 76, 15, 13, 1247, 4, 22, 17, 515, 17, 12, 16, 626, 18, 2, 5, 62, 386, 12, 8, 316, 8, 106, 5, 4, 2223, 5244, 16, 480, 66, 3785, 33, 4, 130, 12, 16, 38, 619, 5, 25, 124, 51, 36, 135, 48, 25, 1415, 33, 6, 22, 12, 215, 28, 77, 52, 5, 14, 407, 16, 82, 2, 8, 4, 107, 117, 5952, 15, 256, 4, 2, 7, 3766, 5, 723, 36, 71, 43, 530, 476, 26, 400, 317, 46, 7, 4, 2, 1029, 13, 104, 88, 4, 381, 15, 297, 98, 32, 2071, 56, 26, 141, 6, 194, 7486, 18, 4, 226, 22, 21, 134, 476, 26, 480, 5, 144, 30, 5535, 18, 51, 36, 28, 224, 92, 25, 104, 4, 226, 65, 16, 38, 1334, 88, 12, 16, 283, 5, 16, 4472, 113, 103, 32, 15, 16, 5345, 19, 178, 32]\n",
      "218\n"
     ]
    }
   ],
   "source": [
    "d = X_train[0]\n",
    "print(d)\n",
    "print(len(d))"
   ]
  },
  {
   "cell_type": "code",
   "execution_count": 9,
   "metadata": {
    "execution": {
     "iopub.execute_input": "2021-08-25T14:12:49.972978Z",
     "iopub.status.busy": "2021-08-25T14:12:49.972552Z",
     "iopub.status.idle": "2021-08-25T14:12:49.996582Z",
     "shell.execute_reply": "2021-08-25T14:12:49.995334Z",
     "shell.execute_reply.started": "2021-08-25T14:12:49.972942Z"
    }
   },
   "outputs": [],
   "source": [
    "review_len_train = []\n",
    "review_len_test = []\n",
    "\n",
    "for i, ii in zip(X_train,X_test):\n",
    "    review_len_train.append(len(i))\n",
    "    review_len_test.append(len(ii))"
   ]
  },
  {
   "cell_type": "code",
   "execution_count": 10,
   "metadata": {
    "execution": {
     "iopub.execute_input": "2021-08-25T14:15:46.409609Z",
     "iopub.status.busy": "2021-08-25T14:15:46.409208Z",
     "iopub.status.idle": "2021-08-25T14:15:47.412158Z",
     "shell.execute_reply": "2021-08-25T14:15:47.411126Z",
     "shell.execute_reply.started": "2021-08-25T14:15:46.409573Z"
    }
   },
   "outputs": [
    {
     "name": "stderr",
     "output_type": "stream",
     "text": [
      "/opt/conda/lib/python3.7/site-packages/seaborn/distributions.py:2557: FutureWarning: `distplot` is a deprecated function and will be removed in a future version. Please adapt your code to use either `displot` (a figure-level function with similar flexibility) or `histplot` (an axes-level function for histograms).\n",
      "  warnings.warn(msg, FutureWarning)\n",
      "/opt/conda/lib/python3.7/site-packages/seaborn/distributions.py:2557: FutureWarning: `distplot` is a deprecated function and will be removed in a future version. Please adapt your code to use either `displot` (a figure-level function with similar flexibility) or `histplot` (an axes-level function for histograms).\n",
      "  warnings.warn(msg, FutureWarning)\n"
     ]
    },
    {
     "name": "stdout",
     "output_type": "stream",
     "text": [
      "Train mean:  238.71364\n",
      "Train median:  178.0\n",
      "Train mode:  ModeResult(mode=array([132]), count=array([196]))\n"
     ]
    },
    {
     "data": {
      "image/png": "[encoded data removed]",
      "text/plain": [
       "<Figure size 432x288 with 1 Axes>"
      ]
     },
     "metadata": {
      "needs_background": "light"
     },
     "output_type": "display_data"
    }
   ],
   "source": [
    "sns.distplot(review_len_train, hist_kws = {\"alpha\":0.3})\n",
    "sns.distplot(review_len_test, hist_kws = {\"alpha\":0.3})\n",
    "\n",
    "print(\"Train mean: \", np.mean(review_len_train))\n",
    "print(\"Train median: \", np.median(review_len_train))\n",
    "print(\"Train mode: \", stats.mode(review_len_train))"
   ]
  },
  {
   "cell_type": "code",
   "execution_count": 36,
   "metadata": {
    "execution": {
     "iopub.execute_input": "2021-08-25T15:12:00.953847Z",
     "iopub.status.busy": "2021-08-25T15:12:00.953293Z",
     "iopub.status.idle": "2021-08-25T15:12:10.410573Z",
     "shell.execute_reply": "2021-08-25T15:12:10.409606Z",
     "shell.execute_reply.started": "2021-08-25T15:12:00.953814Z"
    }
   },
   "outputs": [],
   "source": [
    "num_words = 1000\n",
    "(X_train, y_train), (X_test, y_test) = imdb.load_data(num_words = num_words)\n",
    "\n",
    "maxlen = 32\n",
    "X_train = pad_sequences(X_train, maxlen = maxlen)\n",
    "X_test = pad_sequences(X_test, maxlen = maxlen)"
   ]
  },
  {
   "cell_type": "code",
   "execution_count": 54,
   "metadata": {
    "execution": {
     "iopub.execute_input": "2021-08-25T15:19:40.494054Z",
     "iopub.status.busy": "2021-08-25T15:19:40.493656Z",
     "iopub.status.idle": "2021-08-25T15:19:58.174306Z",
     "shell.execute_reply": "2021-08-25T15:19:58.173188Z",
     "shell.execute_reply.started": "2021-08-25T15:19:40.494025Z"
    }
   },
   "outputs": [
    {
     "name": "stdout",
     "output_type": "stream",
     "text": [
      "Model: \"sequential_20\"\n",
      "_________________________________________________________________\n",
      "Layer (type)                 Output Shape              Param #   \n",
      "=================================================================\n",
      "embedding_19 (Embedding)     (None, 32, 16)            16000     \n",
      "_________________________________________________________________\n",
      "simple_rnn_18 (SimpleRNN)    (None, 16)                528       \n",
      "_________________________________________________________________\n",
      "dense_18 (Dense)             (None, 1)                 17        \n",
      "_________________________________________________________________\n",
      "activation_18 (Activation)   (None, 1)                 0         \n",
      "=================================================================\n",
      "Total params: 16,545\n",
      "Trainable params: 16,545\n",
      "Non-trainable params: 0\n",
      "_________________________________________________________________\n",
      "None\n",
      "Epoch 1/2\n",
      "782/782 [==============================] - 9s 11ms/step - loss: 0.6152 - accuracy: 0.6389 - val_loss: 0.4962 - val_accuracy: 0.7609\n",
      "Epoch 2/2\n",
      "782/782 [==============================] - 8s 11ms/step - loss: 0.4815 - accuracy: 0.7689 - val_loss: 0.5169 - val_accuracy: 0.7406\n"
     ]
    }
   ],
   "source": [
    "rnn = Sequential()\n",
    "rnn.add(Embedding(num_words,16,input_length=(maxlen)))\n",
    "rnn.add(SimpleRNN(16,input_shape=(num_words,maxlen),return_sequences = False, activation=\"tanh\"))\n",
    "rnn.add(Dense(1))\n",
    "rnn.add(Activation(\"sigmoid\"))\n",
    "\n",
    "print(rnn.summary())\n",
    "rnn.compile(loss=\"binary_crossentropy\",optimizer=\"adam\", metrics=[\"accuracy\"])\n",
    "history = rnn.fit(X_train,y_train, validation_data=(X_test,y_test), epochs=2,batch_size=32,verbose=1)"
   ]
  },
  {
   "cell_type": "code",
   "execution_count": 55,
   "metadata": {
    "execution": {
     "iopub.execute_input": "2021-08-25T15:19:58.176242Z",
     "iopub.status.busy": "2021-08-25T15:19:58.175954Z",
     "iopub.status.idle": "2021-08-25T15:19:58.541750Z",
     "shell.execute_reply": "2021-08-25T15:19:58.540723Z",
     "shell.execute_reply.started": "2021-08-25T15:19:58.176215Z"
    }
   },
   "outputs": [
    {
     "name": "stdout",
     "output_type": "stream",
     "text": [
      "Accuracy: 76.7\n"
     ]
    },
    {
     "data": {
      "image/png": "[encoded data removed]",
      "text/plain": [
       "<Figure size 432x288 with 1 Axes>"
      ]
     },
     "metadata": {
      "needs_background": "light"
     },
     "output_type": "display_data"
    },
    {
     "data": {
      "image/png": "[encoded data removed]",
      "text/plain": [
       "<Figure size 432x288 with 1 Axes>"
      ]
     },
     "metadata": {
      "needs_background": "light"
     },
     "output_type": "display_data"
    }
   ],
   "source": [
    "print(f\"Accuracy:\",round(history.history[\"accuracy\"][-1]*100,2))\n",
    "\n",
    "plt.figure()\n",
    "plt.plot(history.history[\"accuracy\"], label = \"Train\")\n",
    "plt.plot(history.history[\"val_accuracy\"], label = \"Test\")\n",
    "plt.title(\"Acc\")\n",
    "plt.ylabel(\"Acc\")\n",
    "plt.xlabel(\"Epochs\")\n",
    "plt.legend()\n",
    "plt.show()\n",
    "\n",
    "plt.figure()\n",
    "plt.plot(history.history[\"loss\"], label = \"Train\")\n",
    "plt.plot(history.history[\"val_loss\"], label = \"Test\")\n",
    "plt.title(\"Loss\")\n",
    "plt.ylabel(\"Loss\")\n",
    "plt.xlabel(\"Epochs\")\n",
    "plt.legend()\n",
    "plt.show()"
   ]
  },
  {
   "cell_type": "code",
   "execution_count": 57,
   "metadata": {
    "execution": {
     "iopub.execute_input": "2021-08-25T15:22:21.311234Z",
     "iopub.status.busy": "2021-08-25T15:22:21.310768Z",
     "iopub.status.idle": "2021-08-25T15:22:21.315455Z",
     "shell.execute_reply": "2021-08-25T15:22:21.314539Z",
     "shell.execute_reply.started": "2021-08-25T15:22:21.311196Z"
    }
   },
   "outputs": [],
   "source": [
    "from keras.layers import LSTM"
   ]
  },
  {
   "cell_type": "code",
   "execution_count": 58,
   "metadata": {
    "execution": {
     "iopub.execute_input": "2021-08-25T15:24:30.606051Z",
     "iopub.status.busy": "2021-08-25T15:24:30.605556Z",
     "iopub.status.idle": "2021-08-25T15:24:40.235570Z",
     "shell.execute_reply": "2021-08-25T15:24:40.234602Z",
     "shell.execute_reply.started": "2021-08-25T15:24:30.606010Z"
    }
   },
   "outputs": [],
   "source": [
    "max_words = 10240\n",
    "maxlen = 32\n",
    "\n",
    "(X_train, y_train), (_,_) = imdb.load_data(nb_words = max_words)\n",
    "X_train = pad_sequences(X_train, maxlen = maxlen)\n",
    "X_test = pad_sequences(X_test, maxlen = maxlen)"
   ]
  },
  {
   "cell_type": "code",
   "execution_count": 67,
   "metadata": {
    "execution": {
     "iopub.execute_input": "2021-08-25T15:41:25.032074Z",
     "iopub.status.busy": "2021-08-25T15:41:25.031648Z",
     "iopub.status.idle": "2021-08-25T15:44:22.278088Z",
     "shell.execute_reply": "2021-08-25T15:44:22.277140Z",
     "shell.execute_reply.started": "2021-08-25T15:41:25.032041Z"
    }
   },
   "outputs": [
    {
     "name": "stdout",
     "output_type": "stream",
     "text": [
      "Epoch 1/10\n",
      "196/196 [==============================] - 20s 91ms/step - loss: 0.6195 - accuracy: 0.6272 - val_loss: 0.4953 - val_accuracy: 0.7524\n",
      "Epoch 2/10\n",
      "196/196 [==============================] - 17s 89ms/step - loss: 0.3728 - accuracy: 0.8345 - val_loss: 0.4886 - val_accuracy: 0.7564\n",
      "Epoch 3/10\n",
      "196/196 [==============================] - 17s 89ms/step - loss: 0.3225 - accuracy: 0.8649 - val_loss: 0.4970 - val_accuracy: 0.7531\n",
      "Epoch 4/10\n",
      "196/196 [==============================] - 18s 91ms/step - loss: 0.2782 - accuracy: 0.8882 - val_loss: 0.5034 - val_accuracy: 0.7510\n",
      "Epoch 5/10\n",
      "196/196 [==============================] - 17s 89ms/step - loss: 0.2565 - accuracy: 0.9014 - val_loss: 0.5056 - val_accuracy: 0.7496\n",
      "Epoch 6/10\n",
      "196/196 [==============================] - 17s 89ms/step - loss: 0.2344 - accuracy: 0.9089 - val_loss: 0.5190 - val_accuracy: 0.7418\n",
      "Epoch 7/10\n",
      "196/196 [==============================] - 17s 88ms/step - loss: 0.2064 - accuracy: 0.9250 - val_loss: 0.5728 - val_accuracy: 0.7366\n",
      "Epoch 8/10\n",
      "196/196 [==============================] - 17s 88ms/step - loss: 0.1797 - accuracy: 0.9361 - val_loss: 0.6983 - val_accuracy: 0.7208\n",
      "Epoch 9/10\n",
      "196/196 [==============================] - 18s 90ms/step - loss: 0.1505 - accuracy: 0.9471 - val_loss: 0.6155 - val_accuracy: 0.7413\n",
      "Epoch 10/10\n",
      "196/196 [==============================] - 18s 91ms/step - loss: 0.1265 - accuracy: 0.9582 - val_loss: 0.6681 - val_accuracy: 0.7332\n"
     ]
    }
   ],
   "source": [
    "model = Sequential()\n",
    "model.add(Embedding(max_words, 16, input_length = maxlen))\n",
    "model.add(LSTM(128))\n",
    "model.add(Dense(1,activation=\"sigmoid\"))\n",
    "model.compile(optimizer=\"adam\",loss=\"binary_crossentropy\",metrics= [\"accuracy\"])\n",
    "\n",
    "history = model.fit(X_train, y_train, batch_size=128,epochs=10,verbose=1, validation_data=(X_test,y_test))"
   ]
  },
  {
   "cell_type": "code",
   "execution_count": 68,
   "metadata": {
    "execution": {
     "iopub.execute_input": "2021-08-25T15:44:22.280201Z",
     "iopub.status.busy": "2021-08-25T15:44:22.279897Z",
     "iopub.status.idle": "2021-08-25T15:44:22.287327Z",
     "shell.execute_reply": "2021-08-25T15:44:22.286399Z",
     "shell.execute_reply.started": "2021-08-25T15:44:22.280172Z"
    }
   },
   "outputs": [
    {
     "name": "stdout",
     "output_type": "stream",
     "text": [
      "Model: \"sequential_25\"\n",
      "_________________________________________________________________\n",
      "Layer (type)                 Output Shape              Param #   \n",
      "=================================================================\n",
      "embedding_24 (Embedding)     (None, 32, 16)            163840    \n",
      "_________________________________________________________________\n",
      "lstm_4 (LSTM)                (None, 128)               74240     \n",
      "_________________________________________________________________\n",
      "dense_23 (Dense)             (None, 1)                 129       \n",
      "=================================================================\n",
      "Total params: 238,209\n",
      "Trainable params: 238,209\n",
      "Non-trainable params: 0\n",
      "_________________________________________________________________\n",
      "None\n"
     ]
    }
   ],
   "source": [
    "print(model.summary())\n"
   ]
  },
  {
   "cell_type": "code",
   "execution_count": 69,
   "metadata": {
    "execution": {
     "iopub.execute_input": "2021-08-25T15:44:22.289503Z",
     "iopub.status.busy": "2021-08-25T15:44:22.288969Z",
     "iopub.status.idle": "2021-08-25T15:44:22.629753Z",
     "shell.execute_reply": "2021-08-25T15:44:22.628750Z",
     "shell.execute_reply.started": "2021-08-25T15:44:22.289460Z"
    }
   },
   "outputs": [
    {
     "name": "stdout",
     "output_type": "stream",
     "text": [
      "Accuracy: 95.06\n"
     ]
    },
    {
     "data": {
      "image/png": "[encoded data removed]",
      "text/plain": [
       "<Figure size 432x288 with 1 Axes>"
      ]
     },
     "metadata": {
      "needs_background": "light"
     },
     "output_type": "display_data"
    },
    {
     "data": {
      "image/png": "[encoded data removed]",
      "text/plain": [
       "<Figure size 432x288 with 1 Axes>"
      ]
     },
     "metadata": {
      "needs_background": "light"
     },
     "output_type": "display_data"
    }
   ],
   "source": [
    "print(f\"Accuracy:\",round(history.history[\"accuracy\"][-1]*100,2))\n",
    "\n",
    "plt.figure()\n",
    "plt.plot(history.history[\"accuracy\"], label = \"Train\")\n",
    "plt.plot(history.history[\"val_accuracy\"], label = \"Test\")\n",
    "plt.title(\"Acc\")\n",
    "plt.ylabel(\"Acc\")\n",
    "plt.xlabel(\"Epochs\")\n",
    "plt.legend()\n",
    "plt.show()\n",
    "\n",
    "plt.figure()\n",
    "plt.plot(history.history[\"loss\"], label = \"Train\")\n",
    "plt.plot(history.history[\"val_loss\"], label = \"Test\")\n",
    "plt.title(\"Loss\")\n",
    "plt.ylabel(\"Loss\")\n",
    "plt.xlabel(\"Epochs\")\n",
    "plt.legend()\n",
    "plt.show()"
   ]
  },
  {
   "cell_type": "code",
   "execution_count": null,
   "metadata": {},
   "outputs": [],
   "source": []
  }
 ],
 "metadata": {
  "kernelspec": {
   "display_name": "Python 3",
   "language": "python",
   "name": "python3"
  },
  "language_info": {
   "codemirror_mode": {
    "name": "ipython",
    "version": 3
   },
   "file_extension": ".py",
   "mimetype": "text/x-python",
   "name": "python",
   "nbconvert_exporter": "python",
   "pygments_lexer": "ipython3",
   "version": "3.9.5"
  }
 },
 "nbformat": 4,
 "nbformat_minor": 4
}
