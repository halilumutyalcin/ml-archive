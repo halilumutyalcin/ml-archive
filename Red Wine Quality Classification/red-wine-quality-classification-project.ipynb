{
 "cells": [
  {
   "cell_type": "code",
   "execution_count": null,
   "metadata": {
    "_cell_guid": "b1076dfc-b9ad-4769-8c92-a6c4dae69d19",
    "_uuid": "8f2839f25d086af736a60e9eeb907d3b93b6e0e5",
    "execution": {
     "iopub.execute_input": "2021-07-08T08:30:06.736647Z",
     "iopub.status.busy": "2021-07-08T08:30:06.736264Z",
     "iopub.status.idle": "2021-07-08T08:30:08.203588Z",
     "shell.execute_reply": "2021-07-08T08:30:08.202556Z",
     "shell.execute_reply.started": "2021-07-08T08:30:06.736603Z"
    }
   },
   "outputs": [],
   "source": [
    "import numpy as np\n",
    "import pandas as pd\n",
    "import matplotlib.pyplot as plt\n",
    "import seaborn as sns\n",
    "\n",
    "from sklearn.model_selection import train_test_split, GridSearchCV, cross_val_score\n",
    "from sklearn.preprocessing import StandardScaler\n",
    "from sklearn.ensemble import RandomForestClassifier\n",
    "from sklearn.svm import SVC \n",
    "from sklearn.metrics import confusion_matrix"
   ]
  },
  {
   "cell_type": "code",
   "execution_count": null,
   "metadata": {
    "execution": {
     "iopub.execute_input": "2021-07-08T08:30:08.205883Z",
     "iopub.status.busy": "2021-07-08T08:30:08.205528Z",
     "iopub.status.idle": "2021-07-08T08:30:08.229862Z",
     "shell.execute_reply": "2021-07-08T08:30:08.229093Z",
     "shell.execute_reply.started": "2021-07-08T08:30:08.205849Z"
    }
   },
   "outputs": [],
   "source": [
    "red_wine_quality = pd.read_csv(\"winequality-red.csv\")\n",
    "data = red_wine_quality.copy()\n",
    "data.shape"
   ]
  },
  {
   "cell_type": "code",
   "execution_count": null,
   "metadata": {
    "execution": {
     "iopub.execute_input": "2021-07-08T08:30:08.231508Z",
     "iopub.status.busy": "2021-07-08T08:30:08.231098Z",
     "iopub.status.idle": "2021-07-08T08:30:08.260421Z",
     "shell.execute_reply": "2021-07-08T08:30:08.259689Z",
     "shell.execute_reply.started": "2021-07-08T08:30:08.231481Z"
    }
   },
   "outputs": [],
   "source": [
    "data.info()"
   ]
  },
  {
   "cell_type": "code",
   "execution_count": null,
   "metadata": {
    "execution": {
     "iopub.execute_input": "2021-07-08T08:30:08.508046Z",
     "iopub.status.busy": "2021-07-08T08:30:08.507535Z",
     "iopub.status.idle": "2021-07-08T08:30:08.563285Z",
     "shell.execute_reply": "2021-07-08T08:30:08.562157Z",
     "shell.execute_reply.started": "2021-07-08T08:30:08.508016Z"
    }
   },
   "outputs": [],
   "source": [
    "data.describe().T"
   ]
  },
  {
   "cell_type": "code",
   "execution_count": null,
   "metadata": {
    "execution": {
     "iopub.execute_input": "2021-07-08T08:30:08.877471Z",
     "iopub.status.busy": "2021-07-08T08:30:08.877128Z",
     "iopub.status.idle": "2021-07-08T08:30:09.278153Z",
     "shell.execute_reply": "2021-07-08T08:30:09.277098Z",
     "shell.execute_reply.started": "2021-07-08T08:30:08.877442Z"
    }
   },
   "outputs": [],
   "source": [
    "plt.figure(figsize=(10,6))\n",
    "sns.barplot(x=\"quality\",y = \"fixed acidity\",data = data)"
   ]
  },
  {
   "cell_type": "code",
   "execution_count": null,
   "metadata": {
    "execution": {
     "iopub.execute_input": "2021-07-08T08:30:09.280018Z",
     "iopub.status.busy": "2021-07-08T08:30:09.279737Z",
     "iopub.status.idle": "2021-07-08T08:30:09.652588Z",
     "shell.execute_reply": "2021-07-08T08:30:09.651484Z",
     "shell.execute_reply.started": "2021-07-08T08:30:09.27999Z"
    }
   },
   "outputs": [],
   "source": [
    "plt.figure(figsize=(10,6))\n",
    "sns.barplot(x=\"quality\",y = \"volatile acidity\",data = data)\n",
    "# There is a \"downing trend\" in the below plot."
   ]
  },
  {
   "cell_type": "code",
   "execution_count": null,
   "metadata": {
    "execution": {
     "iopub.execute_input": "2021-07-08T08:30:09.654792Z",
     "iopub.status.busy": "2021-07-08T08:30:09.654356Z",
     "iopub.status.idle": "2021-07-08T08:30:10.027492Z",
     "shell.execute_reply": "2021-07-08T08:30:10.026571Z",
     "shell.execute_reply.started": "2021-07-08T08:30:09.654742Z"
    }
   },
   "outputs": [],
   "source": [
    "plt.figure(figsize=(10,6))\n",
    "sns.barplot(x=\"quality\",y = \"citric acid\",data = data)\n",
    "# There is a \"increasing trend\" in the below plot."
   ]
  },
  {
   "cell_type": "code",
   "execution_count": null,
   "metadata": {
    "execution": {
     "iopub.execute_input": "2021-07-08T08:30:10.029191Z",
     "iopub.status.busy": "2021-07-08T08:30:10.028883Z",
     "iopub.status.idle": "2021-07-08T08:30:10.528547Z",
     "shell.execute_reply": "2021-07-08T08:30:10.527717Z",
     "shell.execute_reply.started": "2021-07-08T08:30:10.029157Z"
    }
   },
   "outputs": [],
   "source": [
    "plt.figure(figsize=(10,6))\n",
    "sns.barplot(x=\"quality\",y = \"residual sugar\",data = data)\n",
    "# There is a \"downing trend\" in the below plot."
   ]
  },
  {
   "cell_type": "code",
   "execution_count": null,
   "metadata": {
    "execution": {
     "iopub.execute_input": "2021-07-08T08:30:10.53039Z",
     "iopub.status.busy": "2021-07-08T08:30:10.530105Z",
     "iopub.status.idle": "2021-07-08T08:30:10.920961Z",
     "shell.execute_reply": "2021-07-08T08:30:10.919899Z",
     "shell.execute_reply.started": "2021-07-08T08:30:10.530364Z"
    }
   },
   "outputs": [],
   "source": [
    "plt.figure(figsize=(10,6))\n",
    "sns.barplot(x=\"quality\",y = \"chlorides\",data = data)\n",
    "# There is a \"downing trend\" in the below plot."
   ]
  },
  {
   "cell_type": "code",
   "execution_count": null,
   "metadata": {
    "execution": {
     "iopub.execute_input": "2021-07-08T08:30:10.923153Z",
     "iopub.status.busy": "2021-07-08T08:30:10.922773Z",
     "iopub.status.idle": "2021-07-08T08:30:11.311155Z",
     "shell.execute_reply": "2021-07-08T08:30:11.30994Z",
     "shell.execute_reply.started": "2021-07-08T08:30:10.923121Z"
    }
   },
   "outputs": [],
   "source": [
    "plt.figure(figsize=(10,6))\n",
    "sns.barplot(x=\"quality\",y = \"free sulfur dioxide\",data = data)"
   ]
  },
  {
   "cell_type": "code",
   "execution_count": null,
   "metadata": {
    "execution": {
     "iopub.execute_input": "2021-07-08T08:30:11.31302Z",
     "iopub.status.busy": "2021-07-08T08:30:11.312717Z",
     "iopub.status.idle": "2021-07-08T08:30:11.7187Z",
     "shell.execute_reply": "2021-07-08T08:30:11.717676Z",
     "shell.execute_reply.started": "2021-07-08T08:30:11.312992Z"
    }
   },
   "outputs": [],
   "source": [
    "plt.figure(figsize=(10,6))\n",
    "sns.barplot(x=\"quality\",y = \"total sulfur dioxide\",data = data)"
   ]
  },
  {
   "cell_type": "code",
   "execution_count": null,
   "metadata": {
    "execution": {
     "iopub.execute_input": "2021-07-08T08:30:11.720815Z",
     "iopub.status.busy": "2021-07-08T08:30:11.720488Z",
     "iopub.status.idle": "2021-07-08T08:30:12.115389Z",
     "shell.execute_reply": "2021-07-08T08:30:12.114301Z",
     "shell.execute_reply.started": "2021-07-08T08:30:11.720786Z"
    }
   },
   "outputs": [],
   "source": [
    "plt.figure(figsize=(10,6))\n",
    "sns.barplot(x=\"quality\",y = \"sulphates\",data = data)\n",
    "# There is a \"increasing trend\" in the below plot."
   ]
  },
  {
   "cell_type": "code",
   "execution_count": null,
   "metadata": {
    "execution": {
     "iopub.execute_input": "2021-07-08T08:30:12.117827Z",
     "iopub.status.busy": "2021-07-08T08:30:12.117383Z",
     "iopub.status.idle": "2021-07-08T08:30:12.493569Z",
     "shell.execute_reply": "2021-07-08T08:30:12.492441Z",
     "shell.execute_reply.started": "2021-07-08T08:30:12.117782Z"
    }
   },
   "outputs": [],
   "source": [
    "plt.figure(figsize=(10,6))\n",
    "sns.barplot(x=\"quality\",y = \"alcohol\",data = data)\n",
    "# There is a \"increasing trend\" in the below plot."
   ]
  },
  {
   "cell_type": "code",
   "execution_count": null,
   "metadata": {
    "execution": {
     "iopub.execute_input": "2021-07-08T08:30:12.494933Z",
     "iopub.status.busy": "2021-07-08T08:30:12.494636Z",
     "iopub.status.idle": "2021-07-08T08:30:12.884981Z",
     "shell.execute_reply": "2021-07-08T08:30:12.883791Z",
     "shell.execute_reply.started": "2021-07-08T08:30:12.494905Z"
    }
   },
   "outputs": [],
   "source": [
    "plt.figure(figsize=(10,6))\n",
    "sns.barplot(x=\"quality\",y = \"pH\",data = data)\n",
    "# There is a \"downing trend\" in the below plot."
   ]
  },
  {
   "cell_type": "code",
   "execution_count": null,
   "metadata": {
    "execution": {
     "iopub.execute_input": "2021-07-08T08:30:12.887001Z",
     "iopub.status.busy": "2021-07-08T08:30:12.88653Z",
     "iopub.status.idle": "2021-07-08T08:30:12.895679Z",
     "shell.execute_reply": "2021-07-08T08:30:12.894471Z",
     "shell.execute_reply.started": "2021-07-08T08:30:12.886957Z"
    }
   },
   "outputs": [],
   "source": [
    "data[\"quality\"].value_counts()"
   ]
  },
  {
   "cell_type": "code",
   "execution_count": null,
   "metadata": {
    "execution": {
     "iopub.execute_input": "2021-07-08T08:30:12.897782Z",
     "iopub.status.busy": "2021-07-08T08:30:12.897322Z",
     "iopub.status.idle": "2021-07-08T08:30:12.928738Z",
     "shell.execute_reply": "2021-07-08T08:30:12.927393Z",
     "shell.execute_reply.started": "2021-07-08T08:30:12.897737Z"
    }
   },
   "outputs": [],
   "source": [
    "data[\"quality\"] = data[\"quality\"].apply(lambda x:1 if x > 6.5 else 0)\n",
    "data.head()"
   ]
  },
  {
   "cell_type": "code",
   "execution_count": null,
   "metadata": {
    "execution": {
     "iopub.execute_input": "2021-07-08T08:30:12.931503Z",
     "iopub.status.busy": "2021-07-08T08:30:12.931167Z",
     "iopub.status.idle": "2021-07-08T08:30:13.093687Z",
     "shell.execute_reply": "2021-07-08T08:30:13.092351Z",
     "shell.execute_reply.started": "2021-07-08T08:30:12.931472Z"
    }
   },
   "outputs": [],
   "source": [
    "print(data[\"quality\"].value_counts())\n",
    "\n",
    "fig = plt.figure(figsize = (10,6))\n",
    "sns.countplot(data[\"quality\"])"
   ]
  },
  {
   "cell_type": "code",
   "execution_count": null,
   "metadata": {
    "execution": {
     "iopub.execute_input": "2021-07-08T08:30:13.095728Z",
     "iopub.status.busy": "2021-07-08T08:30:13.095403Z",
     "iopub.status.idle": "2021-07-08T08:30:13.101908Z",
     "shell.execute_reply": "2021-07-08T08:30:13.100399Z",
     "shell.execute_reply.started": "2021-07-08T08:30:13.095697Z"
    }
   },
   "outputs": [],
   "source": [
    "X = data.iloc[:,:-1].values\n",
    "y = data.iloc[:,-1].values"
   ]
  },
  {
   "cell_type": "code",
   "execution_count": null,
   "metadata": {
    "execution": {
     "iopub.execute_input": "2021-07-08T08:30:13.104097Z",
     "iopub.status.busy": "2021-07-08T08:30:13.103608Z",
     "iopub.status.idle": "2021-07-08T08:30:13.120975Z",
     "shell.execute_reply": "2021-07-08T08:30:13.119929Z",
     "shell.execute_reply.started": "2021-07-08T08:30:13.104061Z"
    }
   },
   "outputs": [],
   "source": [
    "X_train,X_test,y_train,y_test = train_test_split(X,y,test_size=0.2, random_state=42)\n",
    "print(\"X TRAIN SHAPE:\", X_train.shape)\n",
    "print(\"X TEST SHAPE:\", X_test.shape)\n",
    "print(\"Y TRAIN SHAPE:\", y_train.shape)\n",
    "print(\"Y TEST SHAPE:\", y_test.shape)"
   ]
  },
  {
   "cell_type": "code",
   "execution_count": null,
   "metadata": {
    "execution": {
     "iopub.execute_input": "2021-07-08T08:30:13.122544Z",
     "iopub.status.busy": "2021-07-08T08:30:13.122248Z",
     "iopub.status.idle": "2021-07-08T08:30:13.141736Z",
     "shell.execute_reply": "2021-07-08T08:30:13.140662Z",
     "shell.execute_reply.started": "2021-07-08T08:30:13.122516Z"
    }
   },
   "outputs": [],
   "source": [
    "sc = StandardScaler()\n",
    "\n",
    "X_train = sc.fit_transform(X_train)\n",
    "X_test = sc.fit_transform(X_test)"
   ]
  },
  {
   "cell_type": "code",
   "execution_count": null,
   "metadata": {
    "execution": {
     "iopub.execute_input": "2021-07-08T08:30:13.302339Z",
     "iopub.status.busy": "2021-07-08T08:30:13.301967Z",
     "iopub.status.idle": "2021-07-08T08:30:13.654134Z",
     "shell.execute_reply": "2021-07-08T08:30:13.653262Z",
     "shell.execute_reply.started": "2021-07-08T08:30:13.302303Z"
    }
   },
   "outputs": [],
   "source": [
    "rf_regressor = RandomForestClassifier(n_estimators= 100)\n",
    "rf_regressor.fit(X_train,y_train)\n",
    "y_pred = rf_regressor.predict(X_test)"
   ]
  },
  {
   "cell_type": "code",
   "execution_count": null,
   "metadata": {
    "execution": {
     "iopub.execute_input": "2021-07-08T08:30:13.656232Z",
     "iopub.status.busy": "2021-07-08T08:30:13.655658Z",
     "iopub.status.idle": "2021-07-08T08:30:13.993169Z",
     "shell.execute_reply": "2021-07-08T08:30:13.991955Z",
     "shell.execute_reply.started": "2021-07-08T08:30:13.656187Z"
    }
   },
   "outputs": [],
   "source": [
    "cm = confusion_matrix(y_test,y_pred)\n",
    "print(cm)\n",
    "\n",
    "fig = plt.figure(figsize=(10,6))\n",
    "plt.matshow(cm,cmap=plt.cm.binary,interpolation= \"nearest\")\n",
    "plt.title(\"Confusion Matrix - Random Forest Classifier\\n\")\n",
    "plt.colorbar()\n",
    "plt.ylabel(\"Expected Label\")\n",
    "plt.xlabel(\"Predcit Label\")\n",
    "plt.show()"
   ]
  },
  {
   "cell_type": "code",
   "execution_count": null,
   "metadata": {
    "execution": {
     "iopub.execute_input": "2021-07-08T08:30:13.996318Z",
     "iopub.status.busy": "2021-07-08T08:30:13.995459Z",
     "iopub.status.idle": "2021-07-08T08:30:14.01495Z",
     "shell.execute_reply": "2021-07-08T08:30:14.013586Z",
     "shell.execute_reply.started": "2021-07-08T08:30:13.996265Z"
    }
   },
   "outputs": [],
   "source": [
    "print(\"Total Predictions:\",len(y_pred))\n",
    "print(\"Correct Prediction:\",sum(y_pred == y_test))\n",
    "print(\"Incorrect Prediction:\",sum(y_pred != y_test))\n",
    "print(\"Accuary:\",sum(y_pred == y_test)*100 / len(y_pred),\"%\")"
   ]
  },
  {
   "cell_type": "code",
   "execution_count": null,
   "metadata": {
    "execution": {
     "iopub.execute_input": "2021-07-08T08:30:14.027117Z",
     "iopub.status.busy": "2021-07-08T08:30:14.026243Z",
     "iopub.status.idle": "2021-07-08T08:30:14.067443Z",
     "shell.execute_reply": "2021-07-08T08:30:14.066655Z",
     "shell.execute_reply.started": "2021-07-08T08:30:14.027065Z"
    }
   },
   "outputs": [],
   "source": [
    "svc_regressor = SVC()\n",
    "svc_regressor.fit(X_train,y_train)\n",
    "y_pred = svc_regressor.predict(X_test)"
   ]
  },
  {
   "cell_type": "code",
   "execution_count": null,
   "metadata": {
    "execution": {
     "iopub.execute_input": "2021-07-08T08:30:14.304383Z",
     "iopub.status.busy": "2021-07-08T08:30:14.303738Z",
     "iopub.status.idle": "2021-07-08T08:30:14.6205Z",
     "shell.execute_reply": "2021-07-08T08:30:14.619075Z",
     "shell.execute_reply.started": "2021-07-08T08:30:14.304343Z"
    }
   },
   "outputs": [],
   "source": [
    "cm = confusion_matrix(y_test,y_pred)\n",
    "print(cm)\n",
    "\n",
    "fig = plt.figure(figsize=(10,6))\n",
    "plt.matshow(cm,cmap=plt.cm.binary,interpolation= \"nearest\")\n",
    "plt.title(\"Confusion Matrix - Super Vector Classifier\\n\")\n",
    "plt.colorbar()\n",
    "plt.ylabel(\"Expected Label\")\n",
    "plt.xlabel(\"Predcit Label\")\n",
    "plt.show()"
   ]
  },
  {
   "cell_type": "code",
   "execution_count": null,
   "metadata": {
    "execution": {
     "iopub.execute_input": "2021-07-08T08:30:14.62318Z",
     "iopub.status.busy": "2021-07-08T08:30:14.622694Z",
     "iopub.status.idle": "2021-07-08T08:30:14.642021Z",
     "shell.execute_reply": "2021-07-08T08:30:14.640119Z",
     "shell.execute_reply.started": "2021-07-08T08:30:14.623133Z"
    }
   },
   "outputs": [],
   "source": [
    "print(\"Total Predictions:\",len(y_pred))\n",
    "print(\"Correct Prediction:\",sum(y_pred == y_test))\n",
    "print(\"Incorrect Prediction:\",sum(y_pred != y_test))\n",
    "print(\"Accuary:\",sum(y_pred == y_test)*100 / len(y_pred),\"%\")"
   ]
  },
  {
   "cell_type": "code",
   "execution_count": null,
   "metadata": {
    "execution": {
     "iopub.execute_input": "2021-07-08T08:30:15.243189Z",
     "iopub.status.busy": "2021-07-08T08:30:15.24276Z",
     "iopub.status.idle": "2021-07-08T08:30:15.25031Z",
     "shell.execute_reply": "2021-07-08T08:30:15.248098Z",
     "shell.execute_reply.started": "2021-07-08T08:30:15.243156Z"
    }
   },
   "outputs": [],
   "source": [
    "param = {\n",
    "    \"C\":[0.1, 0.8, 0.9, 1, 1.1, 1.2, 1.3, 1.4],\n",
    "    \"kernel\":[\"linear\",\"rbf\"],\n",
    "    \"gamma\":[0.1, 0.8, 0.9, 1, 1.1, 1.2, 1.3, 1.4]\n",
    "}\n",
    "grid_svc = GridSearchCV(svc_regressor, param_grid = param, scoring = \"accuracy\",cv=10)"
   ]
  },
  {
   "cell_type": "code",
   "execution_count": null,
   "metadata": {
    "execution": {
     "iopub.execute_input": "2021-07-08T08:30:15.494263Z",
     "iopub.status.busy": "2021-07-08T08:30:15.49391Z",
     "iopub.status.idle": "2021-07-08T08:31:03.326252Z",
     "shell.execute_reply": "2021-07-08T08:31:03.325133Z",
     "shell.execute_reply.started": "2021-07-08T08:30:15.494234Z"
    }
   },
   "outputs": [],
   "source": [
    "grid_svc.fit(X_train,y_train)"
   ]
  },
  {
   "cell_type": "code",
   "execution_count": null,
   "metadata": {
    "execution": {
     "iopub.execute_input": "2021-07-08T08:31:03.328073Z",
     "iopub.status.busy": "2021-07-08T08:31:03.327771Z",
     "iopub.status.idle": "2021-07-08T08:31:03.333257Z",
     "shell.execute_reply": "2021-07-08T08:31:03.33216Z",
     "shell.execute_reply.started": "2021-07-08T08:31:03.328046Z"
    }
   },
   "outputs": [],
   "source": [
    "print(\"Best params fpr SVC: \",grid_svc.best_params_)"
   ]
  },
  {
   "cell_type": "code",
   "execution_count": null,
   "metadata": {
    "execution": {
     "iopub.execute_input": "2021-07-08T08:31:03.335709Z",
     "iopub.status.busy": "2021-07-08T08:31:03.335317Z",
     "iopub.status.idle": "2021-07-08T08:31:03.745106Z",
     "shell.execute_reply": "2021-07-08T08:31:03.74377Z",
     "shell.execute_reply.started": "2021-07-08T08:31:03.335672Z"
    }
   },
   "outputs": [],
   "source": [
    "svc_regressor2 = SVC(C = 1.2, gamma = 0.9, kernel = \"rbf\")\n",
    "svc_regressor2.fit(X_train,y_train)\n",
    "y_pred_svc = svc_regressor2.predict(X_test)\n",
    "cm = confusion_matrix(y_test,y_pred_svc)\n",
    "print(cm)\n",
    "\n",
    "fig = plt.figure(figsize=(10,6))\n",
    "plt.matshow(cm,cmap=plt.cm.binary,interpolation= \"nearest\")\n",
    "plt.title(\"Confusion Matrix - Super Vector Classifier\\n\")\n",
    "plt.colorbar()\n",
    "plt.ylabel(\"Expected Label\")\n",
    "plt.xlabel(\"Predcit Label\")\n",
    "plt.show()"
   ]
  },
  {
   "cell_type": "code",
   "execution_count": null,
   "metadata": {
    "execution": {
     "iopub.execute_input": "2021-07-08T08:31:03.747384Z",
     "iopub.status.busy": "2021-07-08T08:31:03.746896Z",
     "iopub.status.idle": "2021-07-08T08:31:03.766647Z",
     "shell.execute_reply": "2021-07-08T08:31:03.765302Z",
     "shell.execute_reply.started": "2021-07-08T08:31:03.747338Z"
    }
   },
   "outputs": [],
   "source": [
    "print(\"Total Predictions:\",len(y_pred_svc))\n",
    "print(\"Correct Prediction:\",sum(y_pred_svc == y_test))\n",
    "print(\"Incorrect Prediction:\",sum(y_pred_svc != y_test))\n",
    "print(\"Accuary:\",sum(y_pred_svc == y_test)*100 / len(y_pred_svc),\"%\")"
   ]
  },
  {
   "cell_type": "code",
   "execution_count": null,
   "metadata": {
    "execution": {
     "iopub.execute_input": "2021-07-08T08:31:03.768857Z",
     "iopub.status.busy": "2021-07-08T08:31:03.768377Z",
     "iopub.status.idle": "2021-07-08T08:31:06.989562Z",
     "shell.execute_reply": "2021-07-08T08:31:06.988553Z",
     "shell.execute_reply.started": "2021-07-08T08:31:03.768807Z"
    }
   },
   "outputs": [],
   "source": [
    "rf_eval = cross_val_score(estimator=rf_regressor, X = X_train, y = y_train,cv=10)\n",
    "rf_eval.mean()"
   ]
  }
 ],
 "metadata": {
  "kernelspec": {
   "display_name": "Python 3",
   "language": "python",
   "name": "python3"
  },
  "language_info": {
   "codemirror_mode": {
    "name": "ipython",
    "version": 3
   },
   "file_extension": ".py",
   "mimetype": "text/x-python",
   "name": "python",
   "nbconvert_exporter": "python",
   "pygments_lexer": "ipython3",
   "version": "3.9.5"
  }
 },
 "nbformat": 4,
 "nbformat_minor": 4
}
