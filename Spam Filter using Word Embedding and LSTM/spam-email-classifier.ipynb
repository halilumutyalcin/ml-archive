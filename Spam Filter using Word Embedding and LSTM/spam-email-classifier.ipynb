{
 "cells": [
  {
   "cell_type": "code",
   "execution_count": 1,
   "metadata": {
    "datalore": {
     "hide_input_from_viewers": false,
     "hide_output_from_viewers": false,
     "type": "CODE"
    }
   },
   "outputs": [],
   "source": [
    "import os\n",
    "import email\n",
    "import random\n",
    "import email.policy\n",
    "from bs4 import BeautifulSoup\n",
    "import numpy as np\n",
    "import pandas as pd\n",
    "import matplotlib.pyplot as plt\n",
    "import seaborn as sns\n",
    "import tensorflow as tf\n",
    "from tensorflow.keras.preprocessing.text import Tokenizer\n",
    "from tensorflow.keras.preprocessing.sequence import pad_sequences\n",
    "from sklearn.metrics import confusion_matrix\n",
    "from sklearn.model_selection import train_test_split\n",
    "from sklearn.metrics import precision_recall_fscore_support\n",
    "import sklearn"
   ]
  },
  {
   "cell_type": "code",
   "execution_count": 2,
   "metadata": {
    "datalore": {
     "hide_input_from_viewers": false,
     "hide_output_from_viewers": false,
     "type": "CODE"
    }
   },
   "outputs": [],
   "source": [
    "# dataset link: https://www.kaggle.com/datasets/veleon/ham-and-spam-dataset\n",
    "base_directory = \"ham-and-spam-dataset/hamnspam/\"\n",
    "spam_email_names = os.listdir(base_directory + \"spam\")\n",
    "normal_email_names = os.listdir(base_directory + \"ham\")"
   ]
  },
  {
   "cell_type": "code",
   "execution_count": 3,
   "metadata": {
    "datalore": {
     "hide_input_from_viewers": false,
     "hide_output_from_viewers": false,
     "type": "CODE"
    }
   },
   "outputs": [],
   "source": [
    "def load_email(is_spam, filename):\n",
    "    directory = base_directory + (\"spam\" if is_spam else \"ham\")\n",
    "    with open(os.path.join(directory, filename), \"rb\") as f:\n",
    "        return email.parser.BytesParser(policy=email.policy.default).parse(f)"
   ]
  },
  {
   "cell_type": "code",
   "execution_count": 4,
   "metadata": {
    "datalore": {
     "hide_input_from_viewers": false,
     "hide_output_from_viewers": false,
     "type": "CODE"
    }
   },
   "outputs": [],
   "source": [
    "spam_emails = [load_email(True, filename) for filename in spam_email_names]\n",
    "normal_emails = [load_email(False, filename) for filename in normal_email_names]\n",
    "random.shuffle(spam_emails)\n",
    "random.shuffle(normal_emails)"
   ]
  },
  {
   "cell_type": "code",
   "execution_count": 6,
   "metadata": {
    "datalore": {
     "hide_input_from_viewers": false,
     "hide_output_from_viewers": false,
     "type": "CODE"
    }
   },
   "outputs": [],
   "source": [
    "def process_email(emails, label, data_dictionary, default_topic=None):\n",
    "    for mail in emails:\n",
    "        payload = mail.get_payload()\n",
    "        if isinstance(payload, list):\n",
    "            process_email(payload, label, data_dictionary, default_topic=mail[\"Subject\"])\n",
    "        else:\n",
    "            if \"Content-Type\" in mail.keys():\n",
    "                if \"html\" in mail[\"Content-Type\"].lower():\n",
    "                    try: \n",
    "                        soup = BeautifulSoup(mail.get_content())\n",
    "                        topic = mail[\"Subject\"]\n",
    "                        if topic == None:\n",
    "                            topic = default_topic\n",
    "                        content = soup.body.text\n",
    "                        data_dictionary[\"topic\"].append(topic)\n",
    "                        data_dictionary[\"content\"].append(content)\n",
    "                        data_dictionary[\"label\"].append(label)\n",
    "                    except:\n",
    "                        pass\n",
    "                elif \"plain\" in mail[\"Content-Type\"].lower():\n",
    "                    try: \n",
    "                        topic = mail[\"Subject\"]\n",
    "                        if topic == None:\n",
    "                            topic = default_topic\n",
    "                        content = mail.get_content()\n",
    "                        data_dictionary[\"topic\"].append(topic)\n",
    "                        data_dictionary[\"content\"].append(content)\n",
    "                        data_dictionary[\"label\"].append(label)\n",
    "                    except:\n",
    "                        pass\n",
    "                else:\n",
    "                    pass"
   ]
  },
  {
   "cell_type": "code",
   "execution_count": 7,
   "metadata": {
    "datalore": {
     "hide_input_from_viewers": false,
     "hide_output_from_viewers": false,
     "type": "CODE"
    }
   },
   "outputs": [],
   "source": [
    "data_dictionary = {\"topic\": [], \"content\": [], \"label\": []}\n",
    "process_email(spam_emails, 1, data_dictionary)\n",
    "process_email(normal_emails, 0, data_dictionary)\n",
    "df = pd.DataFrame(data_dictionary)\n",
    "df.dropna(inplace=True)\n",
    "df = df.sample(frac=1)"
   ]
  },
  {
   "cell_type": "code",
   "execution_count": 8,
   "metadata": {
    "datalore": {
     "hide_input_from_viewers": false,
     "hide_output_from_viewers": false,
     "type": "CODE"
    }
   },
   "outputs": [
    {
     "data": {
      "text/html": [
       "<div>\n",
       "<style scoped>\n",
       "    .dataframe tbody tr th:only-of-type {\n",
       "        vertical-align: middle;\n",
       "    }\n",
       "\n",
       "    .dataframe tbody tr th {\n",
       "        vertical-align: top;\n",
       "    }\n",
       "\n",
       "    .dataframe thead th {\n",
       "        text-align: right;\n",
       "    }\n",
       "</style>\n",
       "<table border=\"1\" class=\"dataframe\">\n",
       "  <thead>\n",
       "    <tr style=\"text-align: right;\">\n",
       "      <th></th>\n",
       "      <th>topic</th>\n",
       "      <th>content</th>\n",
       "      <th>label</th>\n",
       "    </tr>\n",
       "  </thead>\n",
       "  <tbody>\n",
       "    <tr>\n",
       "      <th>116</th>\n",
       "      <td>Attn: PROTECT YOURSELF AGAINST HARMFUL VIRUSES...</td>\n",
       "      <td>Here is an excerpt from your local newspaper. ...</td>\n",
       "      <td>1</td>\n",
       "    </tr>\n",
       "    <tr>\n",
       "      <th>2026</th>\n",
       "      <td>Re: Unseen window versus Sequences Window</td>\n",
       "      <td>&gt; From:  Hal DeVore &lt;haldevore@acm.org&gt;\\n&gt; Dat...</td>\n",
       "      <td>0</td>\n",
       "    </tr>\n",
       "    <tr>\n",
       "      <th>1966</th>\n",
       "      <td>[IMG: http://radio.weblogs.com/0001015/images/...</td>\n",
       "      <td>URL: http://scriptingnews.userland.com/backiss...</td>\n",
       "      <td>0</td>\n",
       "    </tr>\n",
       "    <tr>\n",
       "      <th>2630</th>\n",
       "      <td>Re[2]: Selling Wedded Bliss (was Re: Ouch...)</td>\n",
       "      <td>On Thu, 5 Sep 2002 bitbitch@magnesium.net wrot...</td>\n",
       "      <td>0</td>\n",
       "    </tr>\n",
       "    <tr>\n",
       "      <th>886</th>\n",
       "      <td>Re: /home/dude</td>\n",
       "      <td>Once upon a time, Axel wrote :\\n\\n&gt; I am now r...</td>\n",
       "      <td>0</td>\n",
       "    </tr>\n",
       "    <tr>\n",
       "      <th>741</th>\n",
       "      <td>Re: [zzzzteana] Nothing like mama used to make</td>\n",
       "      <td>Martin Adamson wrote:\\n&gt; \\n&gt; Isn't it just bas...</td>\n",
       "      <td>0</td>\n",
       "    </tr>\n",
       "    <tr>\n",
       "      <th>1308</th>\n",
       "      <td>Re: ALSA (almost) made easy</td>\n",
       "      <td>On Thu, 2002-08-29 at 00:02, Ville Skyttä wrot...</td>\n",
       "      <td>0</td>\n",
       "    </tr>\n",
       "    <tr>\n",
       "      <th>1290</th>\n",
       "      <td>Re: [zzzzteana] The Cafe Forteana is back onli...</td>\n",
       "      <td>&gt;That Goddess Chick wrote:\\n&gt;&gt;\\n&gt;&gt;  &gt;Thanks Fe...</td>\n",
       "      <td>0</td>\n",
       "    </tr>\n",
       "    <tr>\n",
       "      <th>2077</th>\n",
       "      <td>Freedom deal for Real IRA man</td>\n",
       "      <td>URL: http://www.newsisfree.com/click/-0,859765...</td>\n",
       "      <td>0</td>\n",
       "    </tr>\n",
       "    <tr>\n",
       "      <th>159</th>\n",
       "      <td>Special Affiliate Offers from Amazon.Com!</td>\n",
       "      <td>\\n\\n                  Welcome to \"Ghetto\" Ame...</td>\n",
       "      <td>1</td>\n",
       "    </tr>\n",
       "  </tbody>\n",
       "</table>\n",
       "</div>"
      ],
      "text/plain": [
       "                                                  topic  \\\n",
       "116   Attn: PROTECT YOURSELF AGAINST HARMFUL VIRUSES...   \n",
       "2026          Re: Unseen window versus Sequences Window   \n",
       "1966  [IMG: http://radio.weblogs.com/0001015/images/...   \n",
       "2630      Re[2]: Selling Wedded Bliss (was Re: Ouch...)   \n",
       "886                                      Re: /home/dude   \n",
       "741      Re: [zzzzteana] Nothing like mama used to make   \n",
       "1308                        Re: ALSA (almost) made easy   \n",
       "1290  Re: [zzzzteana] The Cafe Forteana is back onli...   \n",
       "2077                      Freedom deal for Real IRA man   \n",
       "159           Special Affiliate Offers from Amazon.Com!   \n",
       "\n",
       "                                                content  label  \n",
       "116   Here is an excerpt from your local newspaper. ...      1  \n",
       "2026  > From:  Hal DeVore <haldevore@acm.org>\\n> Dat...      0  \n",
       "1966  URL: http://scriptingnews.userland.com/backiss...      0  \n",
       "2630  On Thu, 5 Sep 2002 bitbitch@magnesium.net wrot...      0  \n",
       "886   Once upon a time, Axel wrote :\\n\\n> I am now r...      0  \n",
       "741   Martin Adamson wrote:\\n> \\n> Isn't it just bas...      0  \n",
       "1308  On Thu, 2002-08-29 at 00:02, Ville Skyttä wrot...      0  \n",
       "1290  >That Goddess Chick wrote:\\n>>\\n>>  >Thanks Fe...      0  \n",
       "2077  URL: http://www.newsisfree.com/click/-0,859765...      0  \n",
       "159    \\n\\n                  Welcome to \"Ghetto\" Ame...      1  "
      ]
     },
     "execution_count": 8,
     "metadata": {},
     "output_type": "execute_result"
    }
   ],
   "source": [
    "df.head(10)"
   ]
  },
  {
   "cell_type": "code",
   "execution_count": 170,
   "metadata": {
    "datalore": {
     "hide_input_from_viewers": false,
     "hide_output_from_viewers": false,
     "type": "CODE"
    }
   },
   "outputs": [
    {
     "data": {
      "text/plain": [
       "<AxesSubplot:>"
      ]
     },
     "execution_count": 170,
     "metadata": {},
     "output_type": "execute_result"
    },
    {
     "data": {
      "image/png": "[encoded data removed]",
      "text/plain": [
       "<Figure size 432x288 with 1 Axes>"
      ]
     },
     "metadata": {
      "needs_background": "light"
     },
     "output_type": "display_data"
    }
   ],
   "source": [
    "df[\"label\"].value_counts().plot(kind=\"bar\")"
   ]
  },
  {
   "cell_type": "code",
   "execution_count": 171,
   "metadata": {
    "datalore": {
     "hide_input_from_viewers": false,
     "hide_output_from_viewers": false,
     "type": "CODE"
    }
   },
   "outputs": [
    {
     "data": {
      "text/plain": [
       "{0: 0.1763809523809524, 1: 0.8236190476190477}"
      ]
     },
     "execution_count": 171,
     "metadata": {},
     "output_type": "execute_result"
    }
   ],
   "source": [
    "class_weight = 1 / df[\"label\"].value_counts()\n",
    "class_weight = dict(class_weight / class_weight.sum())\n",
    "class_weight"
   ]
  },
  {
   "cell_type": "code",
   "execution_count": 172,
   "metadata": {
    "datalore": {
     "hide_input_from_viewers": false,
     "hide_output_from_viewers": false,
     "type": "CODE"
    }
   },
   "outputs": [],
   "source": [
    "stopwords = [ \"a\", \"about\", \"above\", \"after\", \"again\", \"against\", \"all\", \"am\", \"an\", \"and\", \"any\", \"are\", \"as\", \"at\", \"be\", \"because\", \"been\", \"before\", \"being\", \"below\", \"between\", \"both\", \"but\", \"by\", \"could\", \"did\", \"do\", \"does\", \"doing\", \"down\", \"during\", \"each\", \"few\", \"for\", \"from\", \"further\", \"had\", \"has\", \"have\", \"having\", \"he\", \"he'd\", \"he'll\", \"he's\", \"her\", \"here\", \"here's\", \"hers\", \"herself\", \"him\", \"himself\", \"his\", \"how\", \"how's\", \"i\", \"i'd\", \"i'll\", \"i'm\", \"i've\", \"if\", \"in\", \"into\", \"is\", \"it\", \"it's\", \"its\", \"itself\", \"let's\", \"me\", \"more\", \"most\", \"my\", \"myself\", \"nor\", \"of\", \"on\", \"once\", \"only\", \"or\", \"other\", \"ought\", \"our\", \"ours\", \"ourselves\", \"out\", \"over\", \"own\", \"same\", \"she\", \"she'd\", \"she'll\", \"she's\", \"should\", \"so\", \"some\", \"such\", \"than\", \"that\", \"that's\", \"the\", \"their\", \"theirs\", \"them\", \"themselves\", \"then\", \"there\", \"there's\", \"these\", \"they\", \"they'd\", \"they'll\", \"they're\", \"they've\", \"this\", \"those\", \"through\", \"to\", \"too\", \"under\", \"until\", \"up\", \"very\", \"was\", \"we\", \"we'd\", \"we'll\", \"we're\", \"we've\", \"were\", \"what\", \"what's\", \"when\", \"when's\", \"where\", \"where's\", \"which\", \"while\", \"who\", \"who's\", \"whom\", \"why\", \"why's\", \"with\", \"would\", \"you\", \"you'd\", \"you'll\", \"you're\", \"you've\", \"your\", \"yours\", \"yourself\", \"yourselves\" ]\n",
    "def preprocess_text(content):\n",
    "    # Change text to lowercased\n",
    "    content = content.lower()\n",
    "    # Remove stop words\n",
    "    for stopword in stopwords:\n",
    "        content = content.replace(stopword + \" \", \"\")\n",
    "        content = content.replace(\" \" + stopword, \"\")\n",
    "    return content"
   ]
  },
  {
   "cell_type": "code",
   "execution_count": 173,
   "metadata": {
    "datalore": {
     "hide_input_from_viewers": false,
     "hide_output_from_viewers": false,
     "type": "CODE"
    }
   },
   "outputs": [],
   "source": [
    "num_words = 8196\n",
    "max_content_length = 512\n",
    "topic_and_contents = []\n",
    "for (topic, content) in zip(df[\"topic\"], df[\"content\"]):\n",
    "    topic_and_contents.append(preprocess_text(topic + \" \" + content))\n",
    "df[\"topic_content\"] = topic_and_contents\n",
    "tokenizer = Tokenizer(num_words=num_words - 1, oov_token=\"<OOV>\")\n",
    "tokenizer.fit_on_texts(topic_and_contents)"
   ]
  },
  {
   "cell_type": "code",
   "execution_count": 174,
   "metadata": {
    "datalore": {
     "hide_input_from_viewers": false,
     "hide_output_from_viewers": false,
     "type": "CODE"
    }
   },
   "outputs": [
    {
     "data": {
      "text/html": [
       "<div>\n",
       "<style scoped>\n",
       "    .dataframe tbody tr th:only-of-type {\n",
       "        vertical-align: middle;\n",
       "    }\n",
       "\n",
       "    .dataframe tbody tr th {\n",
       "        vertical-align: top;\n",
       "    }\n",
       "\n",
       "    .dataframe thead th {\n",
       "        text-align: right;\n",
       "    }\n",
       "</style>\n",
       "<table border=\"1\" class=\"dataframe\">\n",
       "  <thead>\n",
       "    <tr style=\"text-align: right;\">\n",
       "      <th></th>\n",
       "      <th>topic</th>\n",
       "      <th>content</th>\n",
       "      <th>label</th>\n",
       "      <th>topic_content</th>\n",
       "    </tr>\n",
       "  </thead>\n",
       "  <tbody>\n",
       "    <tr>\n",
       "      <th>1430</th>\n",
       "      <td>Re: Selling Wedded Bliss (was Re: Ouch...)</td>\n",
       "      <td>Eugen Leitl:\\n&gt;Clearly our non-silly non-antiq...</td>\n",
       "      <td>0</td>\n",
       "      <td>re: sellingdded bliss (wre: ouch...) eugen lei...</td>\n",
       "    </tr>\n",
       "    <tr>\n",
       "      <th>1113</th>\n",
       "      <td>Sun donates elliptic curve code to OpenSSL? (fwd)</td>\n",
       "      <td>---------- Forwarded message ----------\\nDate:...</td>\n",
       "      <td>0</td>\n",
       "      <td>sunnates elliptic curve code openssl? (fwd) --...</td>\n",
       "    </tr>\n",
       "    <tr>\n",
       "      <th>1214</th>\n",
       "      <td>Play by Play: Effective Memory Management</td>\n",
       "      <td>URL: http://www.newsisfree.com/click/-6,650303...</td>\n",
       "      <td>0</td>\n",
       "      <td>play play: effectivemory management url: http:...</td>\n",
       "    </tr>\n",
       "    <tr>\n",
       "      <th>2106</th>\n",
       "      <td>Re: Computational Recreations</td>\n",
       "      <td>On Monday, August 26, 2002, at 09:59  AM, Tom ...</td>\n",
       "      <td>0</td>\n",
       "      <td>re: computational recreations monday,ugust 26,...</td>\n",
       "    </tr>\n",
       "    <tr>\n",
       "      <th>1132</th>\n",
       "      <td>California needs intelligent energy deregulation</td>\n",
       "      <td>\\n--- begin forwarded text\\n\\n\\nStatus: RO\\nDa...</td>\n",
       "      <td>0</td>\n",
       "      <td>californineedsntelligent energy deregulati\\n--...</td>\n",
       "    </tr>\n",
       "  </tbody>\n",
       "</table>\n",
       "</div>"
      ],
      "text/plain": [
       "                                                  topic  \\\n",
       "1430         Re: Selling Wedded Bliss (was Re: Ouch...)   \n",
       "1113  Sun donates elliptic curve code to OpenSSL? (fwd)   \n",
       "1214          Play by Play: Effective Memory Management   \n",
       "2106                      Re: Computational Recreations   \n",
       "1132   California needs intelligent energy deregulation   \n",
       "\n",
       "                                                content  label  \\\n",
       "1430  Eugen Leitl:\\n>Clearly our non-silly non-antiq...      0   \n",
       "1113  ---------- Forwarded message ----------\\nDate:...      0   \n",
       "1214  URL: http://www.newsisfree.com/click/-6,650303...      0   \n",
       "2106  On Monday, August 26, 2002, at 09:59  AM, Tom ...      0   \n",
       "1132  \\n--- begin forwarded text\\n\\n\\nStatus: RO\\nDa...      0   \n",
       "\n",
       "                                          topic_content  \n",
       "1430  re: sellingdded bliss (wre: ouch...) eugen lei...  \n",
       "1113  sunnates elliptic curve code openssl? (fwd) --...  \n",
       "1214  play play: effectivemory management url: http:...  \n",
       "2106  re: computational recreations monday,ugust 26,...  \n",
       "1132  californineedsntelligent energy deregulati\\n--...  "
      ]
     },
     "execution_count": 174,
     "metadata": {},
     "output_type": "execute_result"
    }
   ],
   "source": [
    "df.head()"
   ]
  },
  {
   "cell_type": "code",
   "execution_count": 175,
   "metadata": {
    "datalore": {
     "hide_input_from_viewers": false,
     "hide_output_from_viewers": false,
     "type": "CODE"
    }
   },
   "outputs": [],
   "source": [
    "tokenized_topic_and_contents = tokenizer.texts_to_sequences(topic_and_contents)"
   ]
  },
  {
   "cell_type": "code",
   "execution_count": 176,
   "metadata": {
    "datalore": {
     "hide_input_from_viewers": false,
     "hide_output_from_viewers": false,
     "type": "CODE"
    }
   },
   "outputs": [],
   "source": [
    "tokenized_topic_and_content_lengths = pd.DataFrame([len(item) for item in tokenized_topic_and_contents])"
   ]
  },
  {
   "cell_type": "code",
   "execution_count": 177,
   "metadata": {
    "datalore": {
     "hide_input_from_viewers": false,
     "hide_output_from_viewers": false,
     "type": "CODE"
    }
   },
   "outputs": [
    {
     "data": {
      "text/html": [
       "<div>\n",
       "<style scoped>\n",
       "    .dataframe tbody tr th:only-of-type {\n",
       "        vertical-align: middle;\n",
       "    }\n",
       "\n",
       "    .dataframe tbody tr th {\n",
       "        vertical-align: top;\n",
       "    }\n",
       "\n",
       "    .dataframe thead th {\n",
       "        text-align: right;\n",
       "    }\n",
       "</style>\n",
       "<table border=\"1\" class=\"dataframe\">\n",
       "  <thead>\n",
       "    <tr style=\"text-align: right;\">\n",
       "      <th></th>\n",
       "      <th>0</th>\n",
       "    </tr>\n",
       "  </thead>\n",
       "  <tbody>\n",
       "    <tr>\n",
       "      <th>count</th>\n",
       "      <td>2625.000000</td>\n",
       "    </tr>\n",
       "    <tr>\n",
       "      <th>mean</th>\n",
       "      <td>142.969905</td>\n",
       "    </tr>\n",
       "    <tr>\n",
       "      <th>std</th>\n",
       "      <td>281.633032</td>\n",
       "    </tr>\n",
       "    <tr>\n",
       "      <th>min</th>\n",
       "      <td>2.000000</td>\n",
       "    </tr>\n",
       "    <tr>\n",
       "      <th>25%</th>\n",
       "      <td>50.000000</td>\n",
       "    </tr>\n",
       "    <tr>\n",
       "      <th>50%</th>\n",
       "      <td>89.000000</td>\n",
       "    </tr>\n",
       "    <tr>\n",
       "      <th>75%</th>\n",
       "      <td>147.000000</td>\n",
       "    </tr>\n",
       "    <tr>\n",
       "      <th>max</th>\n",
       "      <td>6758.000000</td>\n",
       "    </tr>\n",
       "  </tbody>\n",
       "</table>\n",
       "</div>"
      ],
      "text/plain": [
       "                 0\n",
       "count  2625.000000\n",
       "mean    142.969905\n",
       "std     281.633032\n",
       "min       2.000000\n",
       "25%      50.000000\n",
       "50%      89.000000\n",
       "75%     147.000000\n",
       "max    6758.000000"
      ]
     },
     "execution_count": 177,
     "metadata": {},
     "output_type": "execute_result"
    }
   ],
   "source": [
    "tokenized_topic_and_content_lengths.describe()"
   ]
  },
  {
   "cell_type": "code",
   "execution_count": 178,
   "metadata": {
    "datalore": {
     "hide_input_from_viewers": false,
     "hide_output_from_viewers": false,
     "type": "CODE"
    }
   },
   "outputs": [
    {
     "data": {
      "text/plain": [
       "array([[<AxesSubplot:title={'center':'0'}>]], dtype=object)"
      ]
     },
     "execution_count": 178,
     "metadata": {},
     "output_type": "execute_result"
    },
    {
     "data": {
      "image/png": "[encoded data removed]",
      "text/plain": [
       "<Figure size 432x288 with 1 Axes>"
      ]
     },
     "metadata": {
      "needs_background": "light"
     },
     "output_type": "display_data"
    }
   ],
   "source": [
    "tokenized_topic_and_content_lengths[tokenized_topic_and_content_lengths < 1024].hist()"
   ]
  },
  {
   "cell_type": "code",
   "execution_count": 179,
   "metadata": {
    "datalore": {
     "hide_input_from_viewers": false,
     "hide_output_from_viewers": false,
     "type": "CODE"
    }
   },
   "outputs": [],
   "source": [
    "padding_tokenized_topic_and_contents = pad_sequences(\n",
    "    tokenized_topic_and_contents, \n",
    "    padding='post', \n",
    "    truncating='post', \n",
    "    maxlen=max_content_length\n",
    ")"
   ]
  },
  {
   "cell_type": "code",
   "execution_count": 180,
   "metadata": {
    "datalore": {
     "hide_input_from_viewers": false,
     "hide_output_from_viewers": false,
     "type": "CODE"
    }
   },
   "outputs": [
    {
     "data": {
      "text/plain": [
       "((2231, 512), (394, 512), (2231,), (394,))"
      ]
     },
     "execution_count": 180,
     "metadata": {},
     "output_type": "execute_result"
    }
   ],
   "source": [
    "X = np.array(padding_tokenized_topic_and_contents)\n",
    "y = np.array(df[\"label\"])\n",
    "X_train, X_test, y_train, y_test = sklearn.model_selection.train_test_split(X, y, test_size=0.15)\n",
    "X_train.shape, X_test.shape, y_train.shape, y_test.shape"
   ]
  },
  {
   "cell_type": "code",
   "execution_count": 181,
   "metadata": {},
   "outputs": [],
   "source": [
    "from evalml.automl import AutoMLSearch\n",
    "auto = AutoMLSearch(X,y,problem_type='binary',max_batches=1,optimize_thresholds=True)\n",
    "auto.search()"
   ]
  },
  {
   "cell_type": "code",
   "execution_count": 22,
   "metadata": {
    "datalore": {
     "hide_input_from_viewers": false,
     "hide_output_from_viewers": false,
     "type": "CODE"
    }
   },
   "outputs": [
    {
     "name": "stdout",
     "output_type": "stream",
     "text": [
      "Model: \"sequential\"\n",
      "_________________________________________________________________\n",
      " Layer (type)                Output Shape              Param #   \n",
      "=================================================================\n",
      " embedding (Embedding)       (None, 512, 256)          2098176   \n",
      "                                                                 \n",
      " bidirectional (Bidirectiona  (None, 512, 256)         394240    \n",
      " l)                                                              \n",
      "                                                                 \n",
      " dropout (Dropout)           (None, 512, 256)          0         \n",
      "                                                                 \n",
      " bidirectional_1 (Bidirectio  (None, 128)              164352    \n",
      " nal)                                                            \n",
      "                                                                 \n",
      " dense (Dense)               (None, 16)                2064      \n",
      "                                                                 \n",
      " dropout_1 (Dropout)         (None, 16)                0         \n",
      "                                                                 \n",
      " dense_1 (Dense)             (None, 2)                 34        \n",
      "                                                                 \n",
      "=================================================================\n",
      "Total params: 2,658,866\n",
      "Trainable params: 2,658,866\n",
      "Non-trainable params: 0\n",
      "_________________________________________________________________\n"
     ]
    }
   ],
   "source": [
    "tf.keras.backend.clear_session()\n",
    "model = tf.keras.Sequential([\n",
    "    tf.keras.layers.Embedding(num_words, 256, input_length=max_content_length),\n",
    "    tf.keras.layers.Bidirectional(tf.keras.layers.LSTM(128, return_sequences=True)),\n",
    "    tf.keras.layers.Dropout(0.5),\n",
    "    tf.keras.layers.Bidirectional(tf.keras.layers.LSTM(64)),\n",
    "    tf.keras.layers.Dense(16, activation=\"relu\"),\n",
    "    tf.keras.layers.Dropout(0.5),\n",
    "    tf.keras.layers.Dense(2, activation='softmax')\n",
    "])\n",
    "model.compile(loss=\"sparse_categorical_crossentropy\", optimizer=\"adam\", metrics=[\"accuracy\"])\n",
    "model.summary()"
   ]
  },
  {
   "cell_type": "code",
   "execution_count": 23,
   "metadata": {
    "datalore": {
     "hide_input_from_viewers": false,
     "hide_output_from_viewers": false,
     "type": "CODE"
    }
   },
   "outputs": [
    {
     "name": "stdout",
     "output_type": "stream",
     "text": [
      "Epoch 1/10\n",
      "70/70 [==============================] - 119s 2s/step - loss: 0.1315 - accuracy: 0.8100 - val_loss: 0.1028 - val_accuracy: 0.9619\n",
      "Epoch 2/10\n",
      "70/70 [==============================] - 117s 2s/step - loss: 0.0275 - accuracy: 0.9682 - val_loss: 0.0416 - val_accuracy: 0.9772\n",
      "Epoch 3/10\n",
      "70/70 [==============================] - 119s 2s/step - loss: 0.0110 - accuracy: 0.9816 - val_loss: 0.0426 - val_accuracy: 0.9822\n",
      "Epoch 4/10\n",
      "70/70 [==============================] - 122s 2s/step - loss: 0.0081 - accuracy: 0.9910 - val_loss: 0.0138 - val_accuracy: 0.9949\n",
      "Epoch 5/10\n",
      "70/70 [==============================] - 121s 2s/step - loss: 0.0031 - accuracy: 0.9924 - val_loss: 0.0087 - val_accuracy: 0.9949\n",
      "Epoch 6/10\n",
      "70/70 [==============================] - 130s 2s/step - loss: 0.0096 - accuracy: 0.9928 - val_loss: 0.6236 - val_accuracy: 0.9188\n",
      "Epoch 7/10\n",
      "70/70 [==============================] - 128s 2s/step - loss: 0.0065 - accuracy: 0.9928 - val_loss: 0.0319 - val_accuracy: 0.9898\n",
      "Epoch 8/10\n",
      "70/70 [==============================] - 124s 2s/step - loss: 0.0016 - accuracy: 0.9982 - val_loss: 0.0388 - val_accuracy: 0.9873\n",
      "Epoch 9/10\n",
      "70/70 [==============================] - 126s 2s/step - loss: 0.0014 - accuracy: 0.9969 - val_loss: 0.0295 - val_accuracy: 0.9898\n",
      "Epoch 10/10\n",
      "70/70 [==============================] - 125s 2s/step - loss: 0.0018 - accuracy: 0.9964 - val_loss: 0.0308 - val_accuracy: 0.9898\n"
     ]
    }
   ],
   "source": [
    "checkpoint_path = \"model.h5\"\n",
    "checkpoint = tf.keras.callbacks.ModelCheckpoint(checkpoint_path, save_best_only=True, restore_best_weights=True)\n",
    "history = model.fit(X_train, y_train, validation_data=(X_test, y_test), class_weight=class_weight, epochs=10, callbacks=[checkpoint])\n",
    "model.load_weights(checkpoint_path)"
   ]
  },
  {
   "cell_type": "code",
   "execution_count": 73,
   "metadata": {
    "datalore": {
     "hide_input_from_viewers": false,
     "hide_output_from_viewers": false,
     "type": "CODE"
    }
   },
   "outputs": [
    {
     "data": {
      "image/png": "[encoded data removed]",
      "text/plain": [
       "<Figure size 432x288 with 1 Axes>"
      ]
     },
     "metadata": {
      "needs_background": "light"
     },
     "output_type": "display_data"
    }
   ],
   "source": [
    "import matplotlib.pyplot as plt\n",
    "pd.DataFrame(history.history).plot(xlabel=\"Epoch\")\n",
    "plt.autoscale()\n",
    "plt.tight_layout()\n",
    "plt.title(\"Loss & Accuracy over time\")"
   ]
  },
  {
   "cell_type": "code",
   "execution_count": 119,
   "metadata": {
    "datalore": {
     "hide_input_from_viewers": false,
     "hide_output_from_viewers": false,
     "type": "CODE"
    }
   },
   "outputs": [
    {
     "name": "stdout",
     "output_type": "stream",
     "text": [
      "13/13 [==============================] - 5s 354ms/step\n"
     ]
    }
   ],
   "source": [
    "y_pred = np.argmax(model.predict(X_test), axis=1)"
   ]
  },
  {
   "cell_type": "code",
   "execution_count": 120,
   "metadata": {
    "datalore": {
     "hide_input_from_viewers": false,
     "hide_output_from_viewers": false,
     "type": "CODE"
    }
   },
   "outputs": [
    {
     "data": {
      "image/png": "[encoded data removed]",
      "text/plain": [
       "<Figure size 432x288 with 2 Axes>"
      ]
     },
     "metadata": {
      "needs_background": "light"
     },
     "output_type": "display_data"
    }
   ],
   "source": [
    "cm = sklearn.metrics.confusion_matrix(y_test, y_pred)\n",
    "sns.heatmap(cm, annot=True, fmt=\"d\")"
   ]
  },
  {
   "cell_type": "code",
   "execution_count": 121,
   "metadata": {},
   "outputs": [],
   "source": [
    "def plot_classification_report(y_tru, y_prd, figsize=(10, 10), ax=None):\n",
    "\n",
    "    plt.figure(figsize=figsize)\n",
    "\n",
    "    xticks = ['precision', 'recall', 'f1-score', 'support']\n",
    "    yticks = list(np.unique(y_tru))\n",
    "    yticks += ['avg']\n",
    "\n",
    "    rep = np.array(precision_recall_fscore_support(y_tru, y_prd)).T\n",
    "    avg = np.mean(rep, axis=0)\n",
    "    avg[-1] = np.sum(rep[:, -1])\n",
    "    rep = np.insert(rep, rep.shape[0], avg, axis=0)\n",
    "\n",
    "    sns.heatmap(rep,\n",
    "                annot=True, \n",
    "                cbar=False, \n",
    "                xticklabels=xticks, \n",
    "                yticklabels=yticks,\n",
    "                ax=ax)\n"
   ]
  },
  {
   "cell_type": "code",
   "execution_count": 122,
   "metadata": {
    "datalore": {
     "hide_input_from_viewers": false,
     "hide_output_from_viewers": false,
     "type": "CODE"
    }
   },
   "outputs": [
    {
     "name": "stdout",
     "output_type": "stream",
     "text": [
      "              precision    recall  f1-score   support\n",
      "\n",
      "           0       1.00      1.00      1.00       326\n",
      "           1       0.99      0.99      0.99        68\n",
      "\n",
      "    accuracy                           0.99       394\n",
      "   macro avg       0.99      0.99      0.99       394\n",
      "weighted avg       0.99      0.99      0.99       394\n",
      "\n"
     ]
    }
   ],
   "source": [
    "cls_report = sklearn.metrics.classification_report(y_test, y_pred)\n",
    "print(cls_report)"
   ]
  },
  {
   "cell_type": "code",
   "execution_count": 123,
   "metadata": {},
   "outputs": [
    {
     "data": {
      "image/png": "[encoded data removed]",
      "text/plain": [
       "<Figure size 720x720 with 1 Axes>"
      ]
     },
     "metadata": {
      "needs_background": "light"
     },
     "output_type": "display_data"
    }
   ],
   "source": [
    "plot_classification_report(y_test, y_pred)"
   ]
  }
 ],
 "metadata": {
  "datalore": {
   "base_environment": "default",
   "computation_mode": "JUPYTER",
   "package_manager": "pip",
   "packages": [],
   "version": 1
  },
  "kernelspec": {
   "display_name": "Python 3 (ipykernel)",
   "language": "python",
   "name": "python3"
  },
  "language_info": {
   "codemirror_mode": {
    "name": "ipython",
    "version": 3
   },
   "file_extension": ".py",
   "mimetype": "text/x-python",
   "name": "python",
   "nbconvert_exporter": "python",
   "pygments_lexer": "ipython3",
   "version": "3.8.12"
  }
 },
 "nbformat": 4,
 "nbformat_minor": 4
}